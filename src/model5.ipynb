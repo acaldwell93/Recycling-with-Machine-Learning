{
 "cells": [
  {
   "cell_type": "code",
   "execution_count": 1,
   "id": "acknowledged-acceptance",
   "metadata": {},
   "outputs": [],
   "source": [
    "import tensorflow as tf\n",
    "from tensorflow import keras\n",
    "from tensorflow.keras.models import Sequential\n",
    "from tensorflow.keras.layers import Dense, Dropout, Activation, Flatten, BatchNormalization, InputLayer\n",
    "from tensorflow.keras.layers import Conv2D, MaxPooling2D\n",
    "from tensorflow.keras.preprocessing.image import ImageDataGenerator, array_to_img, img_to_array, load_img"
   ]
  },
  {
   "cell_type": "code",
   "execution_count": 8,
   "id": "abroad-commodity",
   "metadata": {},
   "outputs": [
    {
     "name": "stdout",
     "output_type": "stream",
     "text": [
      "Found 2051 images belonging to 6 classes.\n",
      "Found 225 images belonging to 6 classes.\n"
     ]
    },
    {
     "data": {
      "text/plain": [
       "{0: 'cardboard', 1: 'glass', 2: 'metal', 3: 'paper', 4: 'plastic', 5: 'trash'}"
      ]
     },
     "execution_count": 8,
     "metadata": {},
     "output_type": "execute_result"
    }
   ],
   "source": [
    "batch_size = 32\n",
    "target_size = (300,300)\n",
    "\n",
    "train_datagen = ImageDataGenerator(rescale=1./255,\n",
    "                                  shear_range=0.1,\n",
    "                                  zoom_range=0.1,\n",
    "                                  horizontal_flip=True,\n",
    "                                  vertical_flip=True,\n",
    "                                  width_shift_range = 0.1,\n",
    "                                  height_shift_range = 0.1,\n",
    "                                  validation_split=0.1)\n",
    "\n",
    "test_datagen = ImageDataGenerator(rescale=1./255, \n",
    "                                  validation_split=0.1)\n",
    "\n",
    "\n",
    "train_generator = train_datagen.flow_from_directory('../data/images/train',\n",
    "                                                    color_mode='rgb',\n",
    "                                                    target_size=target_size,\n",
    "                                                    batch_size=batch_size,\n",
    "                                                    class_mode=\"categorical\",\n",
    "                                                    subset='training')\n",
    "\n",
    "validation_generator = test_datagen.flow_from_directory('../data/images/train',\n",
    "                                                       color_mode='rgb',\n",
    "                                                       target_size=target_size,\n",
    "                                                       batch_size=batch_size,\n",
    "                                                       class_mode='categorical',\n",
    "                                                       subset='validation')\n",
    "\n",
    "labels = (train_generator.class_indices)\n",
    "labels = dict((v, k) for k,v in labels.items())\n",
    "labels\n"
   ]
  },
  {
   "cell_type": "code",
   "execution_count": 5,
   "id": "environmental-defeat",
   "metadata": {},
   "outputs": [
    {
     "name": "stdout",
     "output_type": "stream",
     "text": [
      "Model: \"sequential_2\"\n",
      "_________________________________________________________________\n",
      "Layer (type)                 Output Shape              Param #   \n",
      "=================================================================\n",
      "conv2d_6 (Conv2D)            (None, 300, 300, 32)      896       \n",
      "_________________________________________________________________\n",
      "max_pooling2d_5 (MaxPooling2 (None, 150, 150, 32)      0         \n",
      "_________________________________________________________________\n",
      "conv2d_7 (Conv2D)            (None, 150, 150, 64)      18496     \n",
      "_________________________________________________________________\n",
      "max_pooling2d_6 (MaxPooling2 (None, 75, 75, 64)        0         \n",
      "_________________________________________________________________\n",
      "conv2d_8 (Conv2D)            (None, 75, 75, 32)        18464     \n",
      "_________________________________________________________________\n",
      "max_pooling2d_7 (MaxPooling2 (None, 37, 37, 32)        0         \n",
      "_________________________________________________________________\n",
      "flatten_1 (Flatten)          (None, 43808)             0         \n",
      "_________________________________________________________________\n",
      "dense_2 (Dense)              (None, 64)                2803776   \n",
      "_________________________________________________________________\n",
      "dense_3 (Dense)              (None, 6)                 390       \n",
      "=================================================================\n",
      "Total params: 2,842,022\n",
      "Trainable params: 2,842,022\n",
      "Non-trainable params: 0\n",
      "_________________________________________________________________\n"
     ]
    }
   ],
   "source": [
    "model=Sequential()\n",
    "\n",
    "model.add(Conv2D(32, (3,3), padding='same', input_shape=(target_size[0], target_size[1], 3), activation='relu'))\n",
    "model.add(MaxPooling2D(pool_size=2))\n",
    "\n",
    "model.add(Conv2D(64, (3,3), padding='same', activation='relu'))\n",
    "model.add(MaxPooling2D(pool_size=2))\n",
    "\n",
    "model.add(Conv2D(32, (3,3), padding='same', activation='relu'))\n",
    "model.add(MaxPooling2D(pool_size=2))\n",
    "\n",
    "model.add(Flatten())\n",
    "model.add(Dense(64, activation='relu'))\n",
    "model.add(Dense(6, activation='softmax'))\n",
    "\n",
    "\n",
    "model.compile(loss='categorical_crossentropy',\n",
    "             optimizer='adam', metrics=['accuracy'])\n",
    "\n",
    "model.summary()"
   ]
  },
  {
   "cell_type": "code",
   "execution_count": 6,
   "id": "hollywood-projection",
   "metadata": {},
   "outputs": [],
   "source": [
    "import os\n",
    "root_logdir = os.path.join(os.curdir, \"model5_logs\")\n",
    "\n",
    "def get_run_logdir():\n",
    "    import time\n",
    "    run_id = time.strftime(\"run_%Y_%m_%d-%H_%M_%S\")\n",
    "    return os.path.join(root_logdir, run_id)"
   ]
  },
  {
   "cell_type": "code",
   "execution_count": 9,
   "id": "checked-fifteen",
   "metadata": {},
   "outputs": [
    {
     "name": "stdout",
     "output_type": "stream",
     "text": [
      "Epoch 1/50\n",
      "65/65 [==============================] - 163s 3s/step - loss: 1.4606 - accuracy: 0.3862 - val_loss: 1.3598 - val_accuracy: 0.4533\n",
      "Epoch 2/50\n",
      "65/65 [==============================] - 164s 3s/step - loss: 1.3786 - accuracy: 0.4417 - val_loss: 1.3043 - val_accuracy: 0.4400\n",
      "Epoch 3/50\n",
      "65/65 [==============================] - 162s 2s/step - loss: 1.3026 - accuracy: 0.4686 - val_loss: 1.2501 - val_accuracy: 0.4933\n",
      "Epoch 4/50\n",
      "65/65 [==============================] - 162s 2s/step - loss: 1.2575 - accuracy: 0.5066 - val_loss: 1.3039 - val_accuracy: 0.4533\n",
      "Epoch 5/50\n",
      "65/65 [==============================] - 167s 3s/step - loss: 1.2294 - accuracy: 0.5324 - val_loss: 1.2907 - val_accuracy: 0.5067\n",
      "Epoch 6/50\n",
      "65/65 [==============================] - 166s 3s/step - loss: 1.1924 - accuracy: 0.5490 - val_loss: 1.1869 - val_accuracy: 0.5244\n",
      "Epoch 7/50\n",
      "65/65 [==============================] - 165s 3s/step - loss: 1.1751 - accuracy: 0.5363 - val_loss: 1.1805 - val_accuracy: 0.5022\n",
      "Epoch 8/50\n",
      "65/65 [==============================] - 169s 3s/step - loss: 1.0765 - accuracy: 0.5890 - val_loss: 1.1648 - val_accuracy: 0.5600\n",
      "Epoch 9/50\n",
      "65/65 [==============================] - 167s 3s/step - loss: 1.0783 - accuracy: 0.5885 - val_loss: 1.1401 - val_accuracy: 0.5689\n",
      "Epoch 10/50\n",
      "65/65 [==============================] - 169s 3s/step - loss: 1.0640 - accuracy: 0.5973 - val_loss: 1.1162 - val_accuracy: 0.5956\n",
      "Epoch 11/50\n",
      "65/65 [==============================] - 164s 3s/step - loss: 1.0074 - accuracy: 0.6187 - val_loss: 1.0943 - val_accuracy: 0.5733\n",
      "Epoch 12/50\n",
      "65/65 [==============================] - 161s 2s/step - loss: 1.0063 - accuracy: 0.6192 - val_loss: 1.1592 - val_accuracy: 0.5467\n",
      "Epoch 13/50\n",
      "65/65 [==============================] - 167s 3s/step - loss: 0.9703 - accuracy: 0.6392 - val_loss: 1.0539 - val_accuracy: 0.6222\n",
      "Epoch 14/50\n",
      "65/65 [==============================] - 164s 3s/step - loss: 1.0349 - accuracy: 0.6143 - val_loss: 1.2424 - val_accuracy: 0.5244\n",
      "Epoch 15/50\n",
      "65/65 [==============================] - 163s 2s/step - loss: 1.0052 - accuracy: 0.6255 - val_loss: 1.1065 - val_accuracy: 0.5733\n",
      "Epoch 16/50\n",
      "65/65 [==============================] - 176s 3s/step - loss: 0.9866 - accuracy: 0.6358 - val_loss: 0.9823 - val_accuracy: 0.6400\n",
      "Epoch 17/50\n",
      "65/65 [==============================] - 163s 3s/step - loss: 0.8904 - accuracy: 0.6748 - val_loss: 1.0875 - val_accuracy: 0.5778\n",
      "Epoch 18/50\n",
      "65/65 [==============================] - 163s 2s/step - loss: 0.9179 - accuracy: 0.6611 - val_loss: 0.9611 - val_accuracy: 0.6489\n",
      "Epoch 19/50\n",
      "65/65 [==============================] - 164s 3s/step - loss: 0.8604 - accuracy: 0.6943 - val_loss: 1.0018 - val_accuracy: 0.6044\n",
      "Epoch 20/50\n",
      "65/65 [==============================] - 168s 3s/step - loss: 0.8452 - accuracy: 0.6880 - val_loss: 1.0044 - val_accuracy: 0.6133\n",
      "Epoch 21/50\n",
      "65/65 [==============================] - 165s 3s/step - loss: 0.8378 - accuracy: 0.7036 - val_loss: 0.9267 - val_accuracy: 0.6667\n",
      "Epoch 22/50\n",
      "65/65 [==============================] - 163s 2s/step - loss: 0.8316 - accuracy: 0.6928 - val_loss: 0.9100 - val_accuracy: 0.6356\n",
      "Epoch 23/50\n",
      "65/65 [==============================] - 164s 3s/step - loss: 0.8139 - accuracy: 0.7089 - val_loss: 1.4238 - val_accuracy: 0.5511\n",
      "Epoch 24/50\n",
      "65/65 [==============================] - 167s 3s/step - loss: 0.8636 - accuracy: 0.6782 - val_loss: 0.9363 - val_accuracy: 0.6311\n",
      "Epoch 25/50\n",
      "65/65 [==============================] - 164s 3s/step - loss: 0.7808 - accuracy: 0.7187 - val_loss: 0.9898 - val_accuracy: 0.6622\n",
      "Epoch 26/50\n",
      "65/65 [==============================] - 163s 2s/step - loss: 0.8072 - accuracy: 0.7099 - val_loss: 0.8726 - val_accuracy: 0.6800\n",
      "Epoch 27/50\n",
      "65/65 [==============================] - 168s 3s/step - loss: 0.7322 - accuracy: 0.7416 - val_loss: 0.8490 - val_accuracy: 0.6889\n",
      "Epoch 28/50\n",
      "65/65 [==============================] - 164s 3s/step - loss: 0.7632 - accuracy: 0.7260 - val_loss: 0.8998 - val_accuracy: 0.6978\n",
      "Epoch 29/50\n",
      "65/65 [==============================] - 164s 3s/step - loss: 0.6796 - accuracy: 0.7533 - val_loss: 0.8376 - val_accuracy: 0.7200\n",
      "Epoch 30/50\n",
      "65/65 [==============================] - 167s 3s/step - loss: 0.7373 - accuracy: 0.7333 - val_loss: 0.9076 - val_accuracy: 0.6756\n",
      "Epoch 31/50\n",
      "65/65 [==============================] - 167s 3s/step - loss: 0.6837 - accuracy: 0.7435 - val_loss: 1.0176 - val_accuracy: 0.6578\n",
      "Epoch 32/50\n",
      "65/65 [==============================] - 165s 3s/step - loss: 0.6922 - accuracy: 0.7509 - val_loss: 1.0315 - val_accuracy: 0.6044\n",
      "Epoch 33/50\n",
      "65/65 [==============================] - 164s 3s/step - loss: 0.6905 - accuracy: 0.7513 - val_loss: 0.9744 - val_accuracy: 0.6356\n",
      "Epoch 34/50\n",
      "65/65 [==============================] - 166s 3s/step - loss: 0.6881 - accuracy: 0.7489 - val_loss: 1.0906 - val_accuracy: 0.6089\n",
      "Epoch 35/50\n",
      "65/65 [==============================] - 191s 3s/step - loss: 0.6975 - accuracy: 0.7377 - val_loss: 0.9080 - val_accuracy: 0.6844\n",
      "Epoch 36/50\n",
      "65/65 [==============================] - 198s 3s/step - loss: 0.6180 - accuracy: 0.7762 - val_loss: 0.8754 - val_accuracy: 0.6667\n",
      "Epoch 37/50\n",
      "65/65 [==============================] - 196s 3s/step - loss: 0.6262 - accuracy: 0.7704 - val_loss: 0.9304 - val_accuracy: 0.6889\n",
      "Epoch 38/50\n",
      "65/65 [==============================] - 200s 3s/step - loss: 0.6109 - accuracy: 0.7747 - val_loss: 1.0067 - val_accuracy: 0.6800\n",
      "Epoch 39/50\n",
      "65/65 [==============================] - 196s 3s/step - loss: 0.5838 - accuracy: 0.7869 - val_loss: 0.9194 - val_accuracy: 0.6533\n"
     ]
    }
   ],
   "source": [
    "checkpoint_cb = keras.callbacks.ModelCheckpoint('model5.h5')\n",
    "early_stopping_cb = keras.callbacks.EarlyStopping(patience=10, restore_best_weights=True)\n",
    "tensorboard_cb = keras.callbacks.TensorBoard(get_run_logdir())\n",
    "\n",
    "\n",
    "history = model.fit(\n",
    "    train_generator,\n",
    "    validation_data = validation_generator, \n",
    "    verbose=1,\n",
    "    epochs = 50,\n",
    "    callbacks=[checkpoint_cb, early_stopping_cb, tensorboard_cb])"
   ]
  },
  {
   "cell_type": "code",
   "execution_count": 10,
   "id": "informational-safety",
   "metadata": {},
   "outputs": [
    {
     "name": "stdout",
     "output_type": "stream",
     "text": [
      "Found 251 images belonging to 6 classes.\n"
     ]
    }
   ],
   "source": [
    "holdout_generator = test_datagen.flow_from_directory('../data/images/holdout',\n",
    "                                                       color_mode='rgb',\n",
    "                                                       target_size=target_size,\n",
    "                                                       batch_size=batch_size,\n",
    "                                                       class_mode='categorical')"
   ]
  },
  {
   "cell_type": "code",
   "execution_count": 11,
   "id": "becoming-blues",
   "metadata": {},
   "outputs": [
    {
     "name": "stdout",
     "output_type": "stream",
     "text": [
      "Test score: 0.7157971858978271\n",
      "Test accuracy: 0.7091633677482605\n"
     ]
    }
   ],
   "source": [
    "score = model.evaluate(holdout_generator, verbose=0)\n",
    "print('Test score:', score[0])\n",
    "print('Test accuracy:', score[1])"
   ]
  },
  {
   "cell_type": "code",
   "execution_count": null,
   "id": "joint-rescue",
   "metadata": {},
   "outputs": [],
   "source": []
  }
 ],
 "metadata": {
  "kernelspec": {
   "display_name": "Python 3",
   "language": "python",
   "name": "python3"
  },
  "language_info": {
   "codemirror_mode": {
    "name": "ipython",
    "version": 3
   },
   "file_extension": ".py",
   "mimetype": "text/x-python",
   "name": "python",
   "nbconvert_exporter": "python",
   "pygments_lexer": "ipython3",
   "version": "3.8.8"
  }
 },
 "nbformat": 4,
 "nbformat_minor": 5
}
