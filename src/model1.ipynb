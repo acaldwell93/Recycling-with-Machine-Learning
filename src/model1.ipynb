{
 "cells": [
  {
   "cell_type": "code",
   "execution_count": 1,
   "id": "patient-headline",
   "metadata": {},
   "outputs": [],
   "source": [
    "import tensorflow as tf\n",
    "from tensorflow import keras\n",
    "from tensorflow.keras.models import Sequential\n",
    "from tensorflow.keras.layers import Dense, Dropout, Activation, Flatten\n",
    "from tensorflow.keras.layers import Conv2D, MaxPooling2D"
   ]
  },
  {
   "cell_type": "code",
   "execution_count": 2,
   "id": "incorporated-representation",
   "metadata": {},
   "outputs": [],
   "source": [
    "from tensorflow.keras.preprocessing.image import ImageDataGenerator, array_to_img, img_to_array, load_img"
   ]
  },
  {
   "cell_type": "markdown",
   "id": "arbitrary-fence",
   "metadata": {},
   "source": [
    "Original photos are 512 X 384 with RGB channels."
   ]
  },
  {
   "cell_type": "markdown",
   "id": "alleged-reading",
   "metadata": {},
   "source": [
    "## Using ImageDataGenerator to prepare the images"
   ]
  },
  {
   "cell_type": "code",
   "execution_count": 15,
   "id": "spiritual-exercise",
   "metadata": {},
   "outputs": [
    {
     "name": "stdout",
     "output_type": "stream",
     "text": [
      "Found 2276 images belonging to 6 classes.\n",
      "Found 251 images belonging to 6 classes.\n"
     ]
    }
   ],
   "source": [
    "batch_size = 32\n",
    "#target_size\n",
    "\n",
    "train_datagen = ImageDataGenerator(rescale=1./255,\n",
    "                                  shear_range=0.2,\n",
    "                                  zoom_range=0.2,\n",
    "                                  horizontal_flip=True)\n",
    "\n",
    "test_datagen = ImageDataGenerator(rescale=1./255)\n",
    "\n",
    "train_generator = train_datagen.flow_from_directory('../data/images/train',\n",
    "                                                    color_mode='rgb',\n",
    "                                                    target_size=(128,96),\n",
    "                                                    batch_size=batch_size,\n",
    "                                                    class_mode=\"categorical\",\n",
    "                                                    shuffle=True)\n",
    "\n",
    "validation_generator = test_datagen.flow_from_directory('../data/images/holdout',\n",
    "                                                       color_mode='rgb',\n",
    "                                                       target_size=(128,96),\n",
    "                                                       batch_size=batch_size,\n",
    "                                                       class_mode='categorical')\n",
    "\n"
   ]
  },
  {
   "cell_type": "code",
   "execution_count": 17,
   "id": "joined-corpus",
   "metadata": {},
   "outputs": [
    {
     "data": {
      "text/plain": [
       "(32, 128, 96, 3)"
      ]
     },
     "execution_count": 17,
     "metadata": {},
     "output_type": "execute_result"
    }
   ],
   "source": [
    "next(train_generator)[0].shape"
   ]
  },
  {
   "cell_type": "code",
   "execution_count": 16,
   "id": "fundamental-extra",
   "metadata": {},
   "outputs": [],
   "source": [
    "model = keras.models.Sequential([\n",
    "    keras.layers.Conv2D(64, 7, activation='relu', padding='same', input_shape=[128,96,3]),\n",
    "    keras.layers.MaxPooling2D(2),\n",
    "    keras.layers.Conv2D(64, 3, activation='relu', padding='same'),\n",
    "    keras.layers.Conv2D(64, 3, activation='relu', padding='same'),\n",
    "    keras.layers.MaxPooling2D(2),\n",
    "    keras.layers.Conv2D(128, 3, activation='relu', padding='same'),\n",
    "    keras.layers.Conv2D(128, 3, activation='relu', padding='same'),\n",
    "    keras.layers.MaxPooling2D(2),\n",
    "    keras.layers.Flatten(),\n",
    "    keras.layers.Dense(64, activation='relu'),\n",
    "    keras.layers.Dropout(0.5),\n",
    "    keras.layers.Dense(32, activation='relu'),\n",
    "    keras.layers.Dropout(0.5),\n",
    "    keras.layers.Dense(6, activation='softmax')\n",
    "])\n",
    "\n",
    "model.compile(loss='categorical_crossentropy',\n",
    "             optimizer='adam',\n",
    "             metrics=['accuracy'])"
   ]
  },
  {
   "cell_type": "code",
   "execution_count": 19,
   "id": "opening-expert",
   "metadata": {},
   "outputs": [
    {
     "name": "stdout",
     "output_type": "stream",
     "text": [
      "Epoch 1/50\n",
      "72/72 [==============================] - 123s 2s/step - loss: 1.7985 - accuracy: 0.1948\n",
      "Epoch 2/50\n",
      "72/72 [==============================] - 117s 2s/step - loss: 1.7527 - accuracy: 0.2195\n",
      "Epoch 3/50\n",
      "72/72 [==============================] - 119s 2s/step - loss: 1.7411 - accuracy: 0.2209\n",
      "Epoch 4/50\n",
      "72/72 [==============================] - 122s 2s/step - loss: 1.7328 - accuracy: 0.2282\n",
      "Epoch 5/50\n",
      "72/72 [==============================] - 117s 2s/step - loss: 1.7413 - accuracy: 0.2106\n",
      "Epoch 6/50\n",
      "72/72 [==============================] - 119s 2s/step - loss: 1.7424 - accuracy: 0.2264\n",
      "Epoch 7/50\n",
      "72/72 [==============================] - 116s 2s/step - loss: 1.7295 - accuracy: 0.2420\n",
      "Epoch 8/50\n",
      "72/72 [==============================] - 116s 2s/step - loss: 1.7276 - accuracy: 0.2348\n",
      "Epoch 9/50\n",
      "72/72 [==============================] - 128s 2s/step - loss: 1.7337 - accuracy: 0.2285\n",
      "Epoch 10/50\n",
      "72/72 [==============================] - 122s 2s/step - loss: 1.7249 - accuracy: 0.2477\n",
      "Epoch 11/50\n",
      "72/72 [==============================] - 123s 2s/step - loss: 1.7243 - accuracy: 0.2369\n",
      "Epoch 12/50\n",
      "72/72 [==============================] - 126s 2s/step - loss: 1.7133 - accuracy: 0.2411\n",
      "Epoch 13/50\n",
      "72/72 [==============================] - 116s 2s/step - loss: 1.7329 - accuracy: 0.2413\n",
      "Epoch 14/50\n",
      "72/72 [==============================] - 116s 2s/step - loss: 1.7233 - accuracy: 0.2152\n",
      "Epoch 15/50\n",
      "72/72 [==============================] - 129s 2s/step - loss: 1.7256 - accuracy: 0.2281\n",
      "Epoch 16/50\n",
      "72/72 [==============================] - 133s 2s/step - loss: 1.7337 - accuracy: 0.2323\n",
      "Epoch 17/50\n",
      "72/72 [==============================] - 129s 2s/step - loss: 1.7089 - accuracy: 0.2369\n",
      "Epoch 18/50\n",
      "72/72 [==============================] - 127s 2s/step - loss: 1.7374 - accuracy: 0.2429\n",
      "Epoch 19/50\n",
      "72/72 [==============================] - 127s 2s/step - loss: 1.7278 - accuracy: 0.2299\n",
      "Epoch 20/50\n",
      "72/72 [==============================] - 115s 2s/step - loss: 1.7295 - accuracy: 0.2290\n",
      "Epoch 21/50\n",
      "72/72 [==============================] - 115s 2s/step - loss: 1.7157 - accuracy: 0.2343\n",
      "Epoch 22/50\n",
      "72/72 [==============================] - 115s 2s/step - loss: 1.7289 - accuracy: 0.2304\n",
      "Epoch 23/50\n",
      "72/72 [==============================] - 129s 2s/step - loss: 1.7304 - accuracy: 0.2464\n",
      "Epoch 24/50\n",
      "72/72 [==============================] - 144s 2s/step - loss: 1.7211 - accuracy: 0.2322\n",
      "Epoch 25/50\n",
      "72/72 [==============================] - 114s 2s/step - loss: 1.7227 - accuracy: 0.2429\n",
      "Epoch 26/50\n",
      "72/72 [==============================] - 119s 2s/step - loss: 1.7273 - accuracy: 0.2384\n",
      "Epoch 27/50\n",
      "72/72 [==============================] - 113s 2s/step - loss: 1.7306 - accuracy: 0.2204\n",
      "Epoch 28/50\n",
      "72/72 [==============================] - 105s 1s/step - loss: 1.7291 - accuracy: 0.2219\n",
      "Epoch 29/50\n",
      "72/72 [==============================] - 107s 1s/step - loss: 1.7252 - accuracy: 0.2430\n",
      "Epoch 30/50\n",
      "72/72 [==============================] - 103s 1s/step - loss: 1.7232 - accuracy: 0.2290\n",
      "Epoch 31/50\n",
      "72/72 [==============================] - 103s 1s/step - loss: 1.7187 - accuracy: 0.2327\n",
      "Epoch 32/50\n",
      "72/72 [==============================] - 103s 1s/step - loss: 1.7132 - accuracy: 0.2445\n",
      "Epoch 33/50\n",
      "72/72 [==============================] - 103s 1s/step - loss: 1.7172 - accuracy: 0.2318\n",
      "Epoch 34/50\n",
      "72/72 [==============================] - 111s 2s/step - loss: 1.7225 - accuracy: 0.2481\n",
      "Epoch 35/50\n",
      "72/72 [==============================] - 106s 1s/step - loss: 1.7129 - accuracy: 0.2423\n",
      "Epoch 36/50\n",
      "72/72 [==============================] - 103s 1s/step - loss: 1.7265 - accuracy: 0.2158\n",
      "Epoch 37/50\n",
      "72/72 [==============================] - 103s 1s/step - loss: 1.7254 - accuracy: 0.2379\n",
      "Epoch 38/50\n",
      "72/72 [==============================] - 103s 1s/step - loss: 1.7179 - accuracy: 0.2288\n",
      "Epoch 39/50\n",
      "72/72 [==============================] - 110s 2s/step - loss: 1.7269 - accuracy: 0.2265\n",
      "Epoch 40/50\n",
      "72/72 [==============================] - 121s 2s/step - loss: 1.7214 - accuracy: 0.2295\n",
      "Epoch 41/50\n",
      "72/72 [==============================] - 115s 2s/step - loss: 1.7390 - accuracy: 0.2358\n",
      "Epoch 42/50\n",
      "72/72 [==============================] - 105s 1s/step - loss: 1.7262 - accuracy: 0.2397\n",
      "Epoch 43/50\n",
      "72/72 [==============================] - 103s 1s/step - loss: 1.7195 - accuracy: 0.2381\n",
      "Epoch 44/50\n",
      "72/72 [==============================] - 103s 1s/step - loss: 1.7251 - accuracy: 0.2358\n",
      "Epoch 45/50\n",
      "72/72 [==============================] - 103s 1s/step - loss: 1.7213 - accuracy: 0.2468\n",
      "Epoch 46/50\n",
      "72/72 [==============================] - 113s 2s/step - loss: 1.7241 - accuracy: 0.2279\n",
      "Epoch 47/50\n",
      "72/72 [==============================] - 111s 2s/step - loss: 1.7294 - accuracy: 0.2421\n",
      "Epoch 48/50\n",
      "72/72 [==============================] - 107s 1s/step - loss: 1.7242 - accuracy: 0.2494\n",
      "Epoch 49/50\n",
      "72/72 [==============================] - 110s 2s/step - loss: 1.7284 - accuracy: 0.2482\n",
      "Epoch 50/50\n",
      "72/72 [==============================] - 106s 1s/step - loss: 1.7300 - accuracy: 0.2271\n",
      "Test score: 1.7202976942062378\n",
      "Test accuracy: 0.23505976796150208\n"
     ]
    }
   ],
   "source": [
    "history = model.fit(train_generator, \n",
    "                    epochs=50, \n",
    "                    validation_data=validation_generator, \n",
    "                    validation_steps= 20//batch_size)\n",
    "\n",
    "score = model.evaluate(validation_generator, verbose=0)\n",
    "print('Test score:', score[0])\n",
    "print('Test accuracy:', score[1])"
   ]
  },
  {
   "cell_type": "code",
   "execution_count": 18,
   "id": "accepted-massage",
   "metadata": {},
   "outputs": [
    {
     "name": "stdout",
     "output_type": "stream",
     "text": [
      "Model: \"sequential_2\"\n",
      "_________________________________________________________________\n",
      "Layer (type)                 Output Shape              Param #   \n",
      "=================================================================\n",
      "conv2d_10 (Conv2D)           (None, 128, 96, 64)       9472      \n",
      "_________________________________________________________________\n",
      "max_pooling2d_6 (MaxPooling2 (None, 64, 48, 64)        0         \n",
      "_________________________________________________________________\n",
      "conv2d_11 (Conv2D)           (None, 64, 48, 64)        36928     \n",
      "_________________________________________________________________\n",
      "conv2d_12 (Conv2D)           (None, 64, 48, 64)        36928     \n",
      "_________________________________________________________________\n",
      "max_pooling2d_7 (MaxPooling2 (None, 32, 24, 64)        0         \n",
      "_________________________________________________________________\n",
      "conv2d_13 (Conv2D)           (None, 32, 24, 128)       73856     \n",
      "_________________________________________________________________\n",
      "conv2d_14 (Conv2D)           (None, 32, 24, 128)       147584    \n",
      "_________________________________________________________________\n",
      "max_pooling2d_8 (MaxPooling2 (None, 16, 12, 128)       0         \n",
      "_________________________________________________________________\n",
      "flatten_2 (Flatten)          (None, 24576)             0         \n",
      "_________________________________________________________________\n",
      "dense_6 (Dense)              (None, 64)                1572928   \n",
      "_________________________________________________________________\n",
      "dropout_4 (Dropout)          (None, 64)                0         \n",
      "_________________________________________________________________\n",
      "dense_7 (Dense)              (None, 32)                2080      \n",
      "_________________________________________________________________\n",
      "dropout_5 (Dropout)          (None, 32)                0         \n",
      "_________________________________________________________________\n",
      "dense_8 (Dense)              (None, 6)                 198       \n",
      "=================================================================\n",
      "Total params: 1,879,974\n",
      "Trainable params: 1,879,974\n",
      "Non-trainable params: 0\n",
      "_________________________________________________________________\n"
     ]
    }
   ],
   "source": [
    "model.summary()"
   ]
  },
  {
   "cell_type": "code",
   "execution_count": 20,
   "id": "political-leave",
   "metadata": {},
   "outputs": [],
   "source": [
    "model.save('model1.h5')"
   ]
  },
  {
   "cell_type": "code",
   "execution_count": null,
   "id": "cardiac-campaign",
   "metadata": {},
   "outputs": [],
   "source": []
  }
 ],
 "metadata": {
  "kernelspec": {
   "display_name": "Python 3",
   "language": "python",
   "name": "python3"
  },
  "language_info": {
   "codemirror_mode": {
    "name": "ipython",
    "version": 3
   },
   "file_extension": ".py",
   "mimetype": "text/x-python",
   "name": "python",
   "nbconvert_exporter": "python",
   "pygments_lexer": "ipython3",
   "version": "3.8.8"
  }
 },
 "nbformat": 4,
 "nbformat_minor": 5
}
