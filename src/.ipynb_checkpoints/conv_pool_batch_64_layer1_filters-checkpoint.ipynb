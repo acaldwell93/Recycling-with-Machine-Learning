{
 "cells": [
  {
   "cell_type": "markdown",
   "id": "systematic-identification",
   "metadata": {},
   "source": [
    "### This CNN uses three conv-pool blocks, with doubling number of filters used per block. Two dense layers at the end."
   ]
  },
  {
   "cell_type": "code",
   "execution_count": 2,
   "id": "constitutional-dispute",
   "metadata": {},
   "outputs": [],
   "source": [
    "import tensorflow as tf\n",
    "from tensorflow import keras\n",
    "from tensorflow.keras.models import Sequential\n",
    "from tensorflow.keras.layers import Dense, Dropout, Activation, Flatten, BatchNormalization, InputLayer\n",
    "from tensorflow.keras.layers import Conv2D, MaxPooling2D\n",
    "from tensorflow.keras.preprocessing.image import ImageDataGenerator, array_to_img, img_to_array, load_img"
   ]
  },
  {
   "cell_type": "code",
   "execution_count": 3,
   "id": "differential-halloween",
   "metadata": {},
   "outputs": [],
   "source": [
    "import os\n",
    "root_logdir = os.path.join(os.curdir, \"conv_pool_batch_64_layer1_filters_logs\")\n",
    "\n",
    "def get_run_logdir():\n",
    "    import time\n",
    "    run_id = time.strftime(\"run_%Y_%m_%d-%H_%M_%S\")\n",
    "    return os.path.join(root_logdir, run_id)"
   ]
  },
  {
   "cell_type": "code",
   "execution_count": 4,
   "id": "useful-region",
   "metadata": {},
   "outputs": [
    {
     "name": "stdout",
     "output_type": "stream",
     "text": [
      "Found 1937 images belonging to 6 classes.\n",
      "Found 339 images belonging to 6 classes.\n",
      "Found 251 images belonging to 6 classes.\n"
     ]
    },
    {
     "data": {
      "text/plain": [
       "{0: 'cardboard', 1: 'glass', 2: 'metal', 3: 'paper', 4: 'plastic', 5: 'trash'}"
      ]
     },
     "execution_count": 4,
     "metadata": {},
     "output_type": "execute_result"
    }
   ],
   "source": [
    "batch_size = 32\n",
    "target_size = (200,200)\n",
    "n_training_images = 2051\n",
    "\n",
    "train_datagen = ImageDataGenerator(rescale=1./255,\n",
    "                                  shear_range=0.1,\n",
    "                                  zoom_range=0.1,\n",
    "                                  rotation_range=10,\n",
    "                                  horizontal_flip=True,\n",
    "                                  vertical_flip=True,\n",
    "                                  width_shift_range = 0.1,\n",
    "                                  height_shift_range = 0.1,\n",
    "                                  validation_split=0.15)\n",
    "\n",
    "test_datagen = ImageDataGenerator(rescale=1./255, \n",
    "                                  validation_split=0.15)\n",
    "\n",
    "\n",
    "train_generator = train_datagen.flow_from_directory('../data/images/train',\n",
    "                                                    color_mode='rgb',\n",
    "                                                    target_size=target_size,\n",
    "                                                    batch_size=batch_size,\n",
    "                                                    class_mode=\"categorical\",\n",
    "                                                    subset='training')\n",
    "\n",
    "validation_generator = test_datagen.flow_from_directory('../data/images/train',\n",
    "                                                       color_mode='rgb',\n",
    "                                                       target_size=target_size,\n",
    "                                                       batch_size=batch_size,\n",
    "                                                       class_mode='categorical',\n",
    "                                                       subset='validation')\n",
    "\n",
    "holdout_generator = test_datagen.flow_from_directory('../data/images/holdout',\n",
    "                                                       color_mode='rgb',\n",
    "                                                       target_size=target_size,\n",
    "                                                       batch_size=batch_size,\n",
    "                                                       class_mode='categorical')\n",
    "\n",
    "labels = (train_generator.class_indices)\n",
    "labels = dict((v, k) for k,v in labels.items())\n",
    "labels\n"
   ]
  },
  {
   "cell_type": "code",
   "execution_count": 5,
   "id": "documented-cleaners",
   "metadata": {},
   "outputs": [
    {
     "name": "stdout",
     "output_type": "stream",
     "text": [
      "Model: \"sequential\"\n",
      "_________________________________________________________________\n",
      "Layer (type)                 Output Shape              Param #   \n",
      "=================================================================\n",
      "conv2d (Conv2D)              (None, 200, 200, 64)      1792      \n",
      "_________________________________________________________________\n",
      "batch_normalization (BatchNo (None, 200, 200, 64)      256       \n",
      "_________________________________________________________________\n",
      "max_pooling2d (MaxPooling2D) (None, 100, 100, 64)      0         \n",
      "_________________________________________________________________\n",
      "conv2d_1 (Conv2D)            (None, 100, 100, 64)      36928     \n",
      "_________________________________________________________________\n",
      "max_pooling2d_1 (MaxPooling2 (None, 50, 50, 64)        0         \n",
      "_________________________________________________________________\n",
      "conv2d_2 (Conv2D)            (None, 50, 50, 128)       73856     \n",
      "_________________________________________________________________\n",
      "max_pooling2d_2 (MaxPooling2 (None, 25, 25, 128)       0         \n",
      "_________________________________________________________________\n",
      "flatten (Flatten)            (None, 80000)             0         \n",
      "_________________________________________________________________\n",
      "dense (Dense)                (None, 64)                5120064   \n",
      "_________________________________________________________________\n",
      "dropout (Dropout)            (None, 64)                0         \n",
      "_________________________________________________________________\n",
      "dense_1 (Dense)              (None, 6)                 390       \n",
      "=================================================================\n",
      "Total params: 5,233,286\n",
      "Trainable params: 5,233,158\n",
      "Non-trainable params: 128\n",
      "_________________________________________________________________\n"
     ]
    }
   ],
   "source": [
    "model=Sequential()\n",
    "\n",
    "model.add(Conv2D(64, (3,3), padding='same', input_shape=(target_size[0], target_size[1], 3), activation='relu'))\n",
    "model.add(BatchNormalization())\n",
    "model.add(MaxPooling2D(pool_size=2, strides=2))\n",
    "\n",
    "model.add(Conv2D(64, (3,3), padding='same', activation='relu'))\n",
    "model.add(MaxPooling2D(pool_size=2, strides=2))\n",
    "\n",
    "model.add(Conv2D(128, (3,3), padding='same', activation='relu'))\n",
    "model.add(MaxPooling2D(pool_size=2, strides=2))\n",
    "\n",
    "model.add(Flatten())\n",
    "model.add(Dense(64, activation='relu'))\n",
    "model.add(Dropout(0.1))\n",
    "model.add(Dense(6, activation='softmax'))\n",
    "\n",
    "# initial_learning_rate = 0.001\n",
    "# lr_schedule = tf.keras.optimizers.schedules.ExponentialDecay(\n",
    "#     initial_learning_rate,\n",
    "#     decay_steps=n_training_images*10//batch_size,\n",
    "#     decay_rate=0.9)\n",
    "\n",
    "opt = keras.optimizers.Adam(learning_rate=.001)\n",
    "\n",
    "model.compile(loss='categorical_crossentropy',\n",
    "             optimizer=opt, metrics=['accuracy'])\n",
    "\n",
    "model.summary()"
   ]
  },
  {
   "cell_type": "code",
   "execution_count": 16,
   "id": "mediterranean-circuit",
   "metadata": {},
   "outputs": [
    {
     "name": "stdout",
     "output_type": "stream",
     "text": [
      "Epoch 1/1000\n",
      "61/61 [==============================] - 82s 1s/step - loss: 2.4561 - accuracy: 0.3003 - val_loss: 1.7351 - val_accuracy: 0.2065\n",
      "Epoch 2/1000\n",
      "61/61 [==============================] - 89s 1s/step - loss: 1.3589 - accuracy: 0.4538 - val_loss: 1.7066 - val_accuracy: 0.2242\n",
      "Epoch 3/1000\n",
      "61/61 [==============================] - 85s 1s/step - loss: 1.2847 - accuracy: 0.4721 - val_loss: 1.6787 - val_accuracy: 0.2625\n",
      "Epoch 4/1000\n",
      "61/61 [==============================] - 83s 1s/step - loss: 1.2560 - accuracy: 0.5105 - val_loss: 1.6289 - val_accuracy: 0.3953\n",
      "Epoch 5/1000\n",
      "61/61 [==============================] - 83s 1s/step - loss: 1.1689 - accuracy: 0.5455 - val_loss: 1.7026 - val_accuracy: 0.3127\n",
      "Epoch 6/1000\n",
      "61/61 [==============================] - 82s 1s/step - loss: 1.1697 - accuracy: 0.5404 - val_loss: 1.4624 - val_accuracy: 0.4366\n",
      "Epoch 7/1000\n",
      "61/61 [==============================] - 83s 1s/step - loss: 1.0435 - accuracy: 0.5896 - val_loss: 1.5947 - val_accuracy: 0.3540\n",
      "Epoch 8/1000\n",
      "61/61 [==============================] - 85s 1s/step - loss: 1.0661 - accuracy: 0.5895 - val_loss: 1.4150 - val_accuracy: 0.4661\n",
      "Epoch 9/1000\n",
      "61/61 [==============================] - 91s 1s/step - loss: 1.0437 - accuracy: 0.6162 - val_loss: 1.2171 - val_accuracy: 0.5457\n",
      "Epoch 10/1000\n",
      "61/61 [==============================] - 90s 1s/step - loss: 0.9879 - accuracy: 0.6127 - val_loss: 1.1950 - val_accuracy: 0.5310\n",
      "Epoch 11/1000\n",
      "61/61 [==============================] - 92s 2s/step - loss: 0.9386 - accuracy: 0.6470 - val_loss: 1.1571 - val_accuracy: 0.5959\n",
      "Epoch 12/1000\n",
      "61/61 [==============================] - 92s 1s/step - loss: 0.9148 - accuracy: 0.6471 - val_loss: 1.3303 - val_accuracy: 0.4926\n",
      "Epoch 13/1000\n",
      "61/61 [==============================] - 88s 1s/step - loss: 0.9374 - accuracy: 0.6510 - val_loss: 1.2031 - val_accuracy: 0.5339\n",
      "Epoch 14/1000\n",
      "61/61 [==============================] - 84s 1s/step - loss: 0.8364 - accuracy: 0.6858 - val_loss: 1.6305 - val_accuracy: 0.4336\n",
      "Epoch 15/1000\n",
      "61/61 [==============================] - 85s 1s/step - loss: 0.9175 - accuracy: 0.6580 - val_loss: 1.3436 - val_accuracy: 0.5103\n",
      "Epoch 16/1000\n",
      "61/61 [==============================] - 84s 1s/step - loss: 0.7904 - accuracy: 0.7150 - val_loss: 1.3994 - val_accuracy: 0.5487\n",
      "Epoch 17/1000\n",
      "61/61 [==============================] - 83s 1s/step - loss: 0.8065 - accuracy: 0.6964 - val_loss: 1.1116 - val_accuracy: 0.6195\n",
      "Epoch 18/1000\n",
      "61/61 [==============================] - 83s 1s/step - loss: 0.7779 - accuracy: 0.6886 - val_loss: 1.7466 - val_accuracy: 0.4336\n",
      "Epoch 19/1000\n",
      "61/61 [==============================] - 83s 1s/step - loss: 0.8154 - accuracy: 0.6989 - val_loss: 1.7959 - val_accuracy: 0.4012\n",
      "Epoch 20/1000\n",
      "61/61 [==============================] - 82s 1s/step - loss: 0.7848 - accuracy: 0.7052 - val_loss: 1.2163 - val_accuracy: 0.5280\n",
      "Epoch 21/1000\n",
      "61/61 [==============================] - 85s 1s/step - loss: 0.7324 - accuracy: 0.7154 - val_loss: 1.0488 - val_accuracy: 0.6342\n",
      "Epoch 22/1000\n",
      "61/61 [==============================] - 87s 1s/step - loss: 0.7765 - accuracy: 0.7171 - val_loss: 1.5600 - val_accuracy: 0.4631\n",
      "Epoch 23/1000\n",
      "61/61 [==============================] - 86s 1s/step - loss: 0.7707 - accuracy: 0.7198 - val_loss: 2.2457 - val_accuracy: 0.4159\n",
      "Epoch 24/1000\n",
      "61/61 [==============================] - 84s 1s/step - loss: 0.6944 - accuracy: 0.7459 - val_loss: 1.8876 - val_accuracy: 0.4897\n",
      "Epoch 25/1000\n",
      "61/61 [==============================] - 89s 1s/step - loss: 0.7142 - accuracy: 0.7498 - val_loss: 1.1365 - val_accuracy: 0.6313\n",
      "Epoch 26/1000\n",
      "61/61 [==============================] - 82s 1s/step - loss: 0.6977 - accuracy: 0.7331 - val_loss: 1.3295 - val_accuracy: 0.5221\n",
      "Epoch 27/1000\n",
      "61/61 [==============================] - 84s 1s/step - loss: 0.6245 - accuracy: 0.7577 - val_loss: 1.5059 - val_accuracy: 0.5074\n",
      "Epoch 28/1000\n",
      "61/61 [==============================] - 83s 1s/step - loss: 0.6981 - accuracy: 0.7384 - val_loss: 1.1377 - val_accuracy: 0.6313\n",
      "Epoch 29/1000\n",
      "61/61 [==============================] - 87s 1s/step - loss: 0.6288 - accuracy: 0.7659 - val_loss: 1.1143 - val_accuracy: 0.5841\n",
      "Epoch 30/1000\n",
      "61/61 [==============================] - 90s 1s/step - loss: 0.6177 - accuracy: 0.7689 - val_loss: 1.5256 - val_accuracy: 0.5870\n",
      "Epoch 31/1000\n",
      "61/61 [==============================] - 83s 1s/step - loss: 0.6526 - accuracy: 0.7578 - val_loss: 1.0458 - val_accuracy: 0.6460\n",
      "Epoch 32/1000\n",
      "61/61 [==============================] - 83s 1s/step - loss: 0.6282 - accuracy: 0.7613 - val_loss: 1.1898 - val_accuracy: 0.6696\n",
      "Epoch 33/1000\n",
      "61/61 [==============================] - 83s 1s/step - loss: 0.5516 - accuracy: 0.7908 - val_loss: 1.1477 - val_accuracy: 0.6195\n",
      "Epoch 34/1000\n",
      "61/61 [==============================] - 85s 1s/step - loss: 0.5533 - accuracy: 0.7941 - val_loss: 2.6230 - val_accuracy: 0.4926\n",
      "Epoch 35/1000\n",
      "61/61 [==============================] - 84s 1s/step - loss: 0.5380 - accuracy: 0.7981 - val_loss: 1.0652 - val_accuracy: 0.6785\n",
      "Epoch 36/1000\n",
      "61/61 [==============================] - 84s 1s/step - loss: 0.5513 - accuracy: 0.7856 - val_loss: 1.1665 - val_accuracy: 0.6254\n",
      "Epoch 37/1000\n",
      "61/61 [==============================] - 88s 1s/step - loss: 0.5049 - accuracy: 0.8089 - val_loss: 1.7463 - val_accuracy: 0.5310\n",
      "Epoch 38/1000\n",
      "61/61 [==============================] - 83s 1s/step - loss: 0.5297 - accuracy: 0.8008 - val_loss: 1.0241 - val_accuracy: 0.6608\n",
      "Epoch 39/1000\n",
      "61/61 [==============================] - 83s 1s/step - loss: 0.5383 - accuracy: 0.7903 - val_loss: 1.1083 - val_accuracy: 0.6283\n",
      "Epoch 40/1000\n",
      "61/61 [==============================] - 86s 1s/step - loss: 0.5567 - accuracy: 0.7902 - val_loss: 1.2619 - val_accuracy: 0.6460\n",
      "Epoch 41/1000\n",
      "61/61 [==============================] - 83s 1s/step - loss: 0.5322 - accuracy: 0.8075 - val_loss: 1.0266 - val_accuracy: 0.7080\n",
      "Epoch 42/1000\n",
      "61/61 [==============================] - 84s 1s/step - loss: 0.5677 - accuracy: 0.7918 - val_loss: 1.2782 - val_accuracy: 0.6165\n",
      "Epoch 43/1000\n",
      "61/61 [==============================] - 86s 1s/step - loss: 0.4306 - accuracy: 0.8532 - val_loss: 1.0219 - val_accuracy: 0.6844\n",
      "Epoch 44/1000\n",
      "61/61 [==============================] - 87s 1s/step - loss: 0.4239 - accuracy: 0.8323 - val_loss: 1.0975 - val_accuracy: 0.6519\n",
      "Epoch 45/1000\n",
      "61/61 [==============================] - 85s 1s/step - loss: 0.4590 - accuracy: 0.8208 - val_loss: 1.3706 - val_accuracy: 0.5929\n",
      "Epoch 46/1000\n",
      "61/61 [==============================] - 88s 1s/step - loss: 0.4112 - accuracy: 0.8615 - val_loss: 1.1074 - val_accuracy: 0.6519\n",
      "Epoch 47/1000\n",
      "61/61 [==============================] - 82s 1s/step - loss: 0.4636 - accuracy: 0.8361 - val_loss: 1.4606 - val_accuracy: 0.6224\n",
      "Epoch 48/1000\n",
      "61/61 [==============================] - 82s 1s/step - loss: 0.4564 - accuracy: 0.8332 - val_loss: 1.0959 - val_accuracy: 0.6932\n",
      "Epoch 49/1000\n",
      "61/61 [==============================] - 82s 1s/step - loss: 0.4471 - accuracy: 0.8409 - val_loss: 1.9398 - val_accuracy: 0.5280\n",
      "Epoch 50/1000\n",
      "61/61 [==============================] - 85s 1s/step - loss: 0.4703 - accuracy: 0.8204 - val_loss: 1.0486 - val_accuracy: 0.6490\n",
      "Epoch 51/1000\n",
      "61/61 [==============================] - 88s 1s/step - loss: 0.4052 - accuracy: 0.8643 - val_loss: 1.1309 - val_accuracy: 0.6608\n",
      "Epoch 52/1000\n",
      "61/61 [==============================] - 83s 1s/step - loss: 0.4179 - accuracy: 0.8488 - val_loss: 0.9849 - val_accuracy: 0.6932\n",
      "Epoch 53/1000\n",
      "61/61 [==============================] - 83s 1s/step - loss: 0.4779 - accuracy: 0.8329 - val_loss: 1.1417 - val_accuracy: 0.7050\n",
      "Epoch 54/1000\n",
      "61/61 [==============================] - 83s 1s/step - loss: 0.3843 - accuracy: 0.8652 - val_loss: 1.1399 - val_accuracy: 0.6873\n",
      "Epoch 55/1000\n",
      "61/61 [==============================] - 83s 1s/step - loss: 0.3360 - accuracy: 0.8801 - val_loss: 1.5965 - val_accuracy: 0.5575\n",
      "Epoch 56/1000\n",
      "61/61 [==============================] - 84s 1s/step - loss: 0.3969 - accuracy: 0.8581 - val_loss: 1.1032 - val_accuracy: 0.6549\n",
      "Epoch 57/1000\n",
      "61/61 [==============================] - 84s 1s/step - loss: 0.3759 - accuracy: 0.8598 - val_loss: 1.3523 - val_accuracy: 0.6195\n",
      "Epoch 58/1000\n",
      "61/61 [==============================] - 87s 1s/step - loss: 0.3525 - accuracy: 0.8712 - val_loss: 2.5368 - val_accuracy: 0.5605\n",
      "Epoch 59/1000\n",
      "61/61 [==============================] - 84s 1s/step - loss: 0.3434 - accuracy: 0.8582 - val_loss: 1.3729 - val_accuracy: 0.6283\n",
      "Epoch 60/1000\n",
      "61/61 [==============================] - 84s 1s/step - loss: 0.4129 - accuracy: 0.8606 - val_loss: 1.2614 - val_accuracy: 0.6962\n",
      "Epoch 61/1000\n",
      "61/61 [==============================] - 84s 1s/step - loss: 0.3257 - accuracy: 0.8762 - val_loss: 1.2071 - val_accuracy: 0.6726\n",
      "Epoch 62/1000\n",
      "61/61 [==============================] - 83s 1s/step - loss: 0.3680 - accuracy: 0.8732 - val_loss: 1.1501 - val_accuracy: 0.6991\n",
      "Epoch 63/1000\n",
      "61/61 [==============================] - 86s 1s/step - loss: 0.3518 - accuracy: 0.8823 - val_loss: 1.4314 - val_accuracy: 0.6932\n",
      "Epoch 64/1000\n",
      "61/61 [==============================] - 84s 1s/step - loss: 0.3640 - accuracy: 0.8689 - val_loss: 1.3199 - val_accuracy: 0.6490\n",
      "Epoch 65/1000\n",
      "61/61 [==============================] - 90s 1s/step - loss: 0.3517 - accuracy: 0.8753 - val_loss: 1.4126 - val_accuracy: 0.6490\n",
      "Epoch 66/1000\n",
      "61/61 [==============================] - 97s 2s/step - loss: 0.3496 - accuracy: 0.8751 - val_loss: 1.6777 - val_accuracy: 0.5782\n",
      "Epoch 67/1000\n",
      "61/61 [==============================] - 109s 2s/step - loss: 0.3196 - accuracy: 0.8754 - val_loss: 1.0561 - val_accuracy: 0.6873\n",
      "Epoch 68/1000\n",
      "61/61 [==============================] - 104s 2s/step - loss: 0.3234 - accuracy: 0.8844 - val_loss: 1.0961 - val_accuracy: 0.6991\n",
      "Epoch 69/1000\n",
      "61/61 [==============================] - 105s 2s/step - loss: 0.2879 - accuracy: 0.8931 - val_loss: 1.5975 - val_accuracy: 0.6667\n",
      "Epoch 70/1000\n",
      "61/61 [==============================] - 108s 2s/step - loss: 0.2910 - accuracy: 0.8992 - val_loss: 1.2053 - val_accuracy: 0.7021\n",
      "Epoch 71/1000\n",
      "61/61 [==============================] - 108s 2s/step - loss: 0.2626 - accuracy: 0.9077 - val_loss: 1.1216 - val_accuracy: 0.7345\n",
      "Epoch 72/1000\n",
      "61/61 [==============================] - 107s 2s/step - loss: 0.2961 - accuracy: 0.8910 - val_loss: 1.4452 - val_accuracy: 0.6106\n"
     ]
    }
   ],
   "source": [
    "checkpoint_cb = keras.callbacks.ModelCheckpoint('conv_pool_batch_64_layer1_filters.h5')\n",
    "early_stopping_cb = keras.callbacks.EarlyStopping(patience=20, restore_best_weights=True)\n",
    "tensorboard_cb = keras.callbacks.TensorBoard(get_run_logdir())\n",
    "\n",
    "\n",
    "history = model.fit(\n",
    "    train_generator,\n",
    "    validation_data = validation_generator, \n",
    "    verbose=1,\n",
    "    epochs = 1000,\n",
    "    callbacks=[checkpoint_cb, early_stopping_cb, tensorboard_cb])"
   ]
  },
  {
   "cell_type": "code",
   "execution_count": 17,
   "id": "brief-structure",
   "metadata": {},
   "outputs": [
    {
     "name": "stdout",
     "output_type": "stream",
     "text": [
      "Holdout accuracy: 0.7968127727508545\n"
     ]
    }
   ],
   "source": [
    "score = model.evaluate(holdout_generator, verbose=0)\n",
    "print('Holdout accuracy:', score[1])"
   ]
  },
  {
   "cell_type": "code",
   "execution_count": 21,
   "id": "million-municipality",
   "metadata": {},
   "outputs": [
    {
     "data": {
      "image/png": "[encoded data removed]",
      "text/plain": [
       "<Figure size 432x288 with 1 Axes>"
      ]
     },
     "metadata": {
      "needs_background": "light"
     },
     "output_type": "display_data"
    }
   ],
   "source": [
    "[plt.plot(history.history[i], label=i) for i in history.history.keys()]\n",
    "plt.legend();"
   ]
  },
  {
   "cell_type": "code",
   "execution_count": null,
   "id": "frequent-macedonia",
   "metadata": {},
   "outputs": [],
   "source": []
  }
 ],
 "metadata": {
  "kernelspec": {
   "display_name": "Python 3",
   "language": "python",
   "name": "python3"
  },
  "language_info": {
   "codemirror_mode": {
    "name": "ipython",
    "version": 3
   },
   "file_extension": ".py",
   "mimetype": "text/x-python",
   "name": "python",
   "nbconvert_exporter": "python",
   "pygments_lexer": "ipython3",
   "version": "3.8.8"
  }
 },
 "nbformat": 4,
 "nbformat_minor": 5
}
