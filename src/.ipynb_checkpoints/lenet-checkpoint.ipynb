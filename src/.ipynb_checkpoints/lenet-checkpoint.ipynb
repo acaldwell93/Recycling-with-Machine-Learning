{
 "cells": [
  {
   "cell_type": "markdown",
   "id": "moved-dialogue",
   "metadata": {},
   "source": [
    "### This CNN is modeled on LeNet-5, with two conv-pool blocks, only 8 and 16 filters in those conv layers, and 3 fully connected layers at the end."
   ]
  },
  {
   "cell_type": "code",
   "execution_count": 1,
   "id": "blank-mirror",
   "metadata": {},
   "outputs": [],
   "source": [
    "import tensorflow as tf\n",
    "from tensorflow import keras\n",
    "from tensorflow.keras.models import Sequential\n",
    "from tensorflow.keras.layers import Dense, Dropout, Activation, Flatten, BatchNormalization, InputLayer\n",
    "from tensorflow.keras.layers import Conv2D, MaxPooling2D\n",
    "from tensorflow.keras.preprocessing.image import ImageDataGenerator, array_to_img, img_to_array, load_img"
   ]
  },
  {
   "cell_type": "code",
   "execution_count": 2,
   "id": "listed-remains",
   "metadata": {},
   "outputs": [],
   "source": [
    "import os\n",
    "root_logdir = os.path.join(os.curdir, \"lenet_logs\")\n",
    "\n",
    "def get_run_logdir():\n",
    "    import time\n",
    "    run_id = time.strftime(\"run_%Y_%m_%d-%H_%M_%S\")\n",
    "    return os.path.join(root_logdir, run_id)"
   ]
  },
  {
   "cell_type": "code",
   "execution_count": 11,
   "id": "tutorial-disposition",
   "metadata": {},
   "outputs": [
    {
     "name": "stdout",
     "output_type": "stream",
     "text": [
      "Found 2051 images belonging to 6 classes.\n",
      "Found 225 images belonging to 6 classes.\n",
      "Found 251 images belonging to 6 classes.\n"
     ]
    },
    {
     "data": {
      "text/plain": [
       "{0: 'cardboard', 1: 'glass', 2: 'metal', 3: 'paper', 4: 'plastic', 5: 'trash'}"
      ]
     },
     "execution_count": 11,
     "metadata": {},
     "output_type": "execute_result"
    }
   ],
   "source": [
    "batch_size = 32\n",
    "target_size = (180,180)\n",
    "\n",
    "train_datagen = ImageDataGenerator(rescale=1./255,\n",
    "                                  shear_range=0.1,\n",
    "                                  zoom_range=0.1,\n",
    "                                  horizontal_flip=True,\n",
    "                                  vertical_flip=True,\n",
    "                                  width_shift_range = 0.1,\n",
    "                                  height_shift_range = 0.1,\n",
    "                                  validation_split=0.1)\n",
    "\n",
    "test_datagen = ImageDataGenerator(rescale=1./255, \n",
    "                                  validation_split=0.1)\n",
    "\n",
    "\n",
    "train_generator = train_datagen.flow_from_directory('../data/images/train',\n",
    "                                                    color_mode='rgb',\n",
    "                                                    target_size=target_size,\n",
    "                                                    batch_size=batch_size,\n",
    "                                                    class_mode=\"categorical\",\n",
    "                                                    subset='training')\n",
    "\n",
    "validation_generator = test_datagen.flow_from_directory('../data/images/train',\n",
    "                                                       color_mode='rgb',\n",
    "                                                       target_size=target_size,\n",
    "                                                       batch_size=batch_size,\n",
    "                                                       class_mode='categorical',\n",
    "                                                       subset='validation')\n",
    "\n",
    "holdout_generator = test_datagen.flow_from_directory('../data/images/holdout',\n",
    "                                                       color_mode='rgb',\n",
    "                                                       target_size=target_size,\n",
    "                                                       batch_size=batch_size,\n",
    "                                                       class_mode='categorical')\n",
    "\n",
    "labels = (train_generator.class_indices)\n",
    "labels = dict((v, k) for k,v in labels.items())\n",
    "labels\n"
   ]
  },
  {
   "cell_type": "code",
   "execution_count": 12,
   "id": "alternative-excellence",
   "metadata": {},
   "outputs": [
    {
     "name": "stdout",
     "output_type": "stream",
     "text": [
      "Model: \"sequential_3\"\n",
      "_________________________________________________________________\n",
      "Layer (type)                 Output Shape              Param #   \n",
      "=================================================================\n",
      "conv2d_6 (Conv2D)            (None, 180, 180, 8)       224       \n",
      "_________________________________________________________________\n",
      "max_pooling2d_6 (MaxPooling2 (None, 90, 90, 8)         0         \n",
      "_________________________________________________________________\n",
      "conv2d_7 (Conv2D)            (None, 90, 90, 16)        3216      \n",
      "_________________________________________________________________\n",
      "max_pooling2d_7 (MaxPooling2 (None, 45, 45, 16)        0         \n",
      "_________________________________________________________________\n",
      "flatten_3 (Flatten)          (None, 32400)             0         \n",
      "_________________________________________________________________\n",
      "dense_9 (Dense)              (None, 120)               3888120   \n",
      "_________________________________________________________________\n",
      "dense_10 (Dense)             (None, 84)                10164     \n",
      "_________________________________________________________________\n",
      "dense_11 (Dense)             (None, 6)                 510       \n",
      "=================================================================\n",
      "Total params: 3,902,234\n",
      "Trainable params: 3,902,234\n",
      "Non-trainable params: 0\n",
      "_________________________________________________________________\n"
     ]
    }
   ],
   "source": [
    "model = Sequential()\n",
    "model.add(InputLayer(input_shape=(target_size[0], target_size[1], 3)))\n",
    "\n",
    "model.add(Conv2D(8, 3, activation='relu', padding='same'))\n",
    "model.add(MaxPooling2D(pool_size=2, strides=2))\n",
    "\n",
    "model.add(Conv2D(16, 5, activation='relu', padding='same'))\n",
    "model.add(MaxPooling2D(pool_size=2, strides=2))\n",
    "\n",
    "model.add(Flatten())\n",
    "model.add(Dense(120, activation='relu'))\n",
    "model.add(Dense(84, activation='relu'))\n",
    "model.add(Dense(6, activation='softmax'))\n",
    "\n",
    "\n",
    "opt = keras.optimizers.Adam(learning_rate=0.001)\n",
    "model.compile(loss='categorical_crossentropy',\n",
    "             optimizer=opt, metrics=['accuracy'])\n",
    "\n",
    "model.summary()"
   ]
  },
  {
   "cell_type": "code",
   "execution_count": 13,
   "id": "assured-hazard",
   "metadata": {},
   "outputs": [
    {
     "name": "stdout",
     "output_type": "stream",
     "text": [
      "Epoch 1/50\n",
      "65/65 [==============================] - 43s 659ms/step - loss: 2.2921 - accuracy: 0.2309 - val_loss: 1.5746 - val_accuracy: 0.2978\n",
      "Epoch 2/50\n",
      "65/65 [==============================] - 41s 635ms/step - loss: 1.5165 - accuracy: 0.3727 - val_loss: 1.3984 - val_accuracy: 0.3644\n",
      "Epoch 3/50\n",
      "65/65 [==============================] - 42s 651ms/step - loss: 1.3701 - accuracy: 0.4467 - val_loss: 1.3720 - val_accuracy: 0.4311\n",
      "Epoch 4/50\n",
      "65/65 [==============================] - 40s 616ms/step - loss: 1.2626 - accuracy: 0.4921 - val_loss: 1.2897 - val_accuracy: 0.5022\n",
      "Epoch 5/50\n",
      "65/65 [==============================] - 40s 618ms/step - loss: 1.2282 - accuracy: 0.5430 - val_loss: 1.1984 - val_accuracy: 0.5378\n",
      "Epoch 6/50\n",
      "65/65 [==============================] - 41s 628ms/step - loss: 1.1641 - accuracy: 0.5570 - val_loss: 1.2569 - val_accuracy: 0.5022\n",
      "Epoch 7/50\n",
      "65/65 [==============================] - 41s 636ms/step - loss: 1.0784 - accuracy: 0.5944 - val_loss: 1.1075 - val_accuracy: 0.5422\n",
      "Epoch 8/50\n",
      "65/65 [==============================] - 41s 629ms/step - loss: 1.0693 - accuracy: 0.5861 - val_loss: 1.0739 - val_accuracy: 0.5289\n",
      "Epoch 9/50\n",
      "65/65 [==============================] - 39s 595ms/step - loss: 1.0779 - accuracy: 0.5997 - val_loss: 1.1475 - val_accuracy: 0.5378\n",
      "Epoch 10/50\n",
      "65/65 [==============================] - 39s 603ms/step - loss: 1.0357 - accuracy: 0.6093 - val_loss: 1.1121 - val_accuracy: 0.5556\n",
      "Epoch 11/50\n",
      "65/65 [==============================] - 41s 630ms/step - loss: 1.0466 - accuracy: 0.6035 - val_loss: 1.0485 - val_accuracy: 0.5867\n",
      "Epoch 12/50\n",
      "65/65 [==============================] - 42s 650ms/step - loss: 0.9968 - accuracy: 0.6284 - val_loss: 1.0818 - val_accuracy: 0.5867\n",
      "Epoch 13/50\n",
      "65/65 [==============================] - 40s 615ms/step - loss: 1.0085 - accuracy: 0.6268 - val_loss: 1.0572 - val_accuracy: 0.6044\n",
      "Epoch 14/50\n",
      "65/65 [==============================] - 40s 619ms/step - loss: 0.9837 - accuracy: 0.6393 - val_loss: 0.9965 - val_accuracy: 0.5911\n",
      "Epoch 15/50\n",
      "65/65 [==============================] - 41s 627ms/step - loss: 0.9291 - accuracy: 0.6496 - val_loss: 1.0253 - val_accuracy: 0.6178\n",
      "Epoch 16/50\n",
      "65/65 [==============================] - 41s 632ms/step - loss: 0.9397 - accuracy: 0.6442 - val_loss: 1.0470 - val_accuracy: 0.6000\n",
      "Epoch 17/50\n",
      "65/65 [==============================] - 41s 628ms/step - loss: 0.8553 - accuracy: 0.6761 - val_loss: 1.0269 - val_accuracy: 0.5956\n",
      "Epoch 18/50\n",
      "65/65 [==============================] - 39s 603ms/step - loss: 0.9264 - accuracy: 0.6404 - val_loss: 1.1652 - val_accuracy: 0.5644\n",
      "Epoch 19/50\n",
      "65/65 [==============================] - 39s 604ms/step - loss: 0.9400 - accuracy: 0.6573 - val_loss: 0.9802 - val_accuracy: 0.6489\n",
      "Epoch 20/50\n",
      "65/65 [==============================] - 42s 642ms/step - loss: 0.9327 - accuracy: 0.6364 - val_loss: 1.0579 - val_accuracy: 0.6000\n",
      "Epoch 21/50\n",
      "65/65 [==============================] - 45s 686ms/step - loss: 0.8786 - accuracy: 0.6633 - val_loss: 0.9472 - val_accuracy: 0.6356\n",
      "Epoch 22/50\n",
      "65/65 [==============================] - 40s 611ms/step - loss: 0.8444 - accuracy: 0.6717 - val_loss: 1.0672 - val_accuracy: 0.5956\n",
      "Epoch 23/50\n",
      "65/65 [==============================] - 40s 606ms/step - loss: 0.8854 - accuracy: 0.6763 - val_loss: 0.9396 - val_accuracy: 0.6489\n",
      "Epoch 24/50\n",
      "65/65 [==============================] - 39s 600ms/step - loss: 0.8249 - accuracy: 0.6889 - val_loss: 0.9595 - val_accuracy: 0.6311\n",
      "Epoch 25/50\n",
      "65/65 [==============================] - 40s 607ms/step - loss: 0.8218 - accuracy: 0.6923 - val_loss: 0.9489 - val_accuracy: 0.6489\n",
      "Epoch 26/50\n",
      "65/65 [==============================] - 43s 663ms/step - loss: 0.7668 - accuracy: 0.7081 - val_loss: 0.9490 - val_accuracy: 0.6267\n",
      "Epoch 27/50\n",
      "65/65 [==============================] - 49s 756ms/step - loss: 0.7801 - accuracy: 0.7226 - val_loss: 0.8805 - val_accuracy: 0.6933\n",
      "Epoch 28/50\n",
      "65/65 [==============================] - 49s 750ms/step - loss: 0.7642 - accuracy: 0.7110 - val_loss: 0.9330 - val_accuracy: 0.6222\n",
      "Epoch 29/50\n",
      "65/65 [==============================] - 49s 760ms/step - loss: 0.7799 - accuracy: 0.7147 - val_loss: 0.9363 - val_accuracy: 0.6444\n",
      "Epoch 30/50\n",
      "65/65 [==============================] - 47s 714ms/step - loss: 0.7740 - accuracy: 0.7211 - val_loss: 0.9333 - val_accuracy: 0.6311\n",
      "Epoch 31/50\n",
      "65/65 [==============================] - 47s 722ms/step - loss: 0.7500 - accuracy: 0.7296 - val_loss: 0.9832 - val_accuracy: 0.6444\n",
      "Epoch 32/50\n",
      "65/65 [==============================] - 46s 711ms/step - loss: 0.7791 - accuracy: 0.7189 - val_loss: 1.0142 - val_accuracy: 0.6489\n",
      "Epoch 33/50\n",
      "65/65 [==============================] - 45s 696ms/step - loss: 0.7107 - accuracy: 0.7431 - val_loss: 1.0207 - val_accuracy: 0.6044\n",
      "Epoch 34/50\n",
      "65/65 [==============================] - 47s 727ms/step - loss: 0.7012 - accuracy: 0.7452 - val_loss: 0.9437 - val_accuracy: 0.6578\n",
      "Epoch 35/50\n",
      "65/65 [==============================] - 46s 708ms/step - loss: 0.6817 - accuracy: 0.7663 - val_loss: 1.0246 - val_accuracy: 0.6578\n",
      "Epoch 36/50\n",
      "65/65 [==============================] - 44s 674ms/step - loss: 0.6619 - accuracy: 0.7477 - val_loss: 0.9865 - val_accuracy: 0.6089\n",
      "Epoch 37/50\n",
      "65/65 [==============================] - 45s 685ms/step - loss: 0.6612 - accuracy: 0.7420 - val_loss: 0.9111 - val_accuracy: 0.6533\n"
     ]
    }
   ],
   "source": [
    "checkpoint_cb = keras.callbacks.ModelCheckpoint('lenet.h5')\n",
    "early_stopping_cb = keras.callbacks.EarlyStopping(patience=10, restore_best_weights=True)\n",
    "tensorboard_cb = keras.callbacks.TensorBoard(get_run_logdir())\n",
    "\n",
    "\n",
    "history = model.fit(\n",
    "    train_generator,\n",
    "    validation_data = validation_generator, \n",
    "    verbose=1,\n",
    "    epochs = 50,\n",
    "    callbacks=[checkpoint_cb, early_stopping_cb, tensorboard_cb])"
   ]
  },
  {
   "cell_type": "code",
   "execution_count": 14,
   "id": "egyptian-daughter",
   "metadata": {},
   "outputs": [
    {
     "name": "stdout",
     "output_type": "stream",
     "text": [
      "Holdout accuracy: 0.7529880404472351\n"
     ]
    }
   ],
   "source": [
    "score = model.evaluate(holdout_generator, verbose=0)\n",
    "print('Holdout accuracy:', score[1])"
   ]
  },
  {
   "cell_type": "code",
   "execution_count": null,
   "id": "julian-stability",
   "metadata": {},
   "outputs": [],
   "source": []
  }
 ],
 "metadata": {
  "kernelspec": {
   "display_name": "Python 3",
   "language": "python",
   "name": "python3"
  },
  "language_info": {
   "codemirror_mode": {
    "name": "ipython",
    "version": 3
   },
   "file_extension": ".py",
   "mimetype": "text/x-python",
   "name": "python",
   "nbconvert_exporter": "python",
   "pygments_lexer": "ipython3",
   "version": "3.8.8"
  }
 },
 "nbformat": 4,
 "nbformat_minor": 5
}
