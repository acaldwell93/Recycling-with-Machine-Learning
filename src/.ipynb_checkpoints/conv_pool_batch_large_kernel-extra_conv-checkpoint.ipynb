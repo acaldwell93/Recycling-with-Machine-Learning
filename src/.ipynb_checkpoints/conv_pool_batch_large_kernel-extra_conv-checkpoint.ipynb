{
 "cells": [
  {
   "cell_type": "markdown",
   "id": "dutch-sampling",
   "metadata": {},
   "source": [
    "### This CNN uses three conv-pool blocks, with doubling number of filters used per block. Two dense layers at the end."
   ]
  },
  {
   "cell_type": "code",
   "execution_count": 1,
   "id": "contained-fountain",
   "metadata": {},
   "outputs": [],
   "source": [
    "import tensorflow as tf\n",
    "from tensorflow import keras\n",
    "from tensorflow.keras.models import Sequential\n",
    "from tensorflow.keras.layers import Dense, Dropout, Activation, Flatten, BatchNormalization, InputLayer\n",
    "from tensorflow.keras.layers import Conv2D, MaxPooling2D\n",
    "from tensorflow.keras.preprocessing.image import ImageDataGenerator, array_to_img, img_to_array, load_img"
   ]
  },
  {
   "cell_type": "code",
   "execution_count": 2,
   "id": "blocked-services",
   "metadata": {},
   "outputs": [],
   "source": [
    "import os\n",
    "root_logdir = os.path.join(os.curdir, \"conv_pool_batch_96_layer1_filters_logs\")\n",
    "\n",
    "def get_run_logdir():\n",
    "    import time\n",
    "    run_id = time.strftime(\"run_%Y_%m_%d-%H_%M_%S\")\n",
    "    return os.path.join(root_logdir, run_id)"
   ]
  },
  {
   "cell_type": "code",
   "execution_count": 3,
   "id": "sunset-globe",
   "metadata": {},
   "outputs": [
    {
     "name": "stdout",
     "output_type": "stream",
     "text": [
      "Found 1937 images belonging to 6 classes.\n",
      "Found 339 images belonging to 6 classes.\n",
      "Found 251 images belonging to 6 classes.\n"
     ]
    },
    {
     "data": {
      "text/plain": [
       "{0: 'cardboard', 1: 'glass', 2: 'metal', 3: 'paper', 4: 'plastic', 5: 'trash'}"
      ]
     },
     "execution_count": 3,
     "metadata": {},
     "output_type": "execute_result"
    }
   ],
   "source": [
    "batch_size = 32\n",
    "target_size = (512,384)\n",
    "n_training_images = 2051\n",
    "\n",
    "train_datagen = ImageDataGenerator(rescale=1./255,\n",
    "                                  shear_range=0.1,\n",
    "                                  zoom_range=0.1,\n",
    "                                  rotation_range=10,\n",
    "                                  horizontal_flip=True,\n",
    "                                  vertical_flip=True,\n",
    "                                  width_shift_range = 0.1,\n",
    "                                  height_shift_range = 0.1,\n",
    "                                  validation_split=0.15)\n",
    "\n",
    "test_datagen = ImageDataGenerator(rescale=1./255, \n",
    "                                  validation_split=0.15)\n",
    "\n",
    "\n",
    "train_generator = train_datagen.flow_from_directory('../data/images/train',\n",
    "                                                    color_mode='rgb',\n",
    "                                                    target_size=target_size,\n",
    "                                                    batch_size=batch_size,\n",
    "                                                    class_mode=\"categorical\",\n",
    "                                                    subset='training')\n",
    "\n",
    "validation_generator = test_datagen.flow_from_directory('../data/images/train',\n",
    "                                                       color_mode='rgb',\n",
    "                                                       target_size=target_size,\n",
    "                                                       batch_size=batch_size,\n",
    "                                                       class_mode='categorical',\n",
    "                                                       subset='validation')\n",
    "\n",
    "holdout_generator = test_datagen.flow_from_directory('../data/images/holdout',\n",
    "                                                       color_mode='rgb',\n",
    "                                                       target_size=target_size,\n",
    "                                                       batch_size=batch_size,\n",
    "                                                       class_mode='categorical')\n",
    "\n",
    "labels = (train_generator.class_indices)\n",
    "labels = dict((v, k) for k,v in labels.items())\n",
    "labels\n"
   ]
  },
  {
   "cell_type": "code",
   "execution_count": 4,
   "id": "excess-official",
   "metadata": {},
   "outputs": [
    {
     "name": "stdout",
     "output_type": "stream",
     "text": [
      "Model: \"sequential\"\n",
      "_________________________________________________________________\n",
      "Layer (type)                 Output Shape              Param #   \n",
      "=================================================================\n",
      "conv2d (Conv2D)              (None, 128, 96, 32)       4736      \n",
      "_________________________________________________________________\n",
      "batch_normalization (BatchNo (None, 128, 96, 32)       128       \n",
      "_________________________________________________________________\n",
      "max_pooling2d (MaxPooling2D) (None, 63, 47, 32)        0         \n",
      "_________________________________________________________________\n",
      "conv2d_1 (Conv2D)            (None, 63, 47, 64)        51264     \n",
      "_________________________________________________________________\n",
      "max_pooling2d_1 (MaxPooling2 (None, 31, 23, 64)        0         \n",
      "_________________________________________________________________\n",
      "conv2d_2 (Conv2D)            (None, 31, 23, 128)       73856     \n",
      "_________________________________________________________________\n",
      "max_pooling2d_2 (MaxPooling2 (None, 15, 11, 128)       0         \n",
      "_________________________________________________________________\n",
      "flatten (Flatten)            (None, 21120)             0         \n",
      "_________________________________________________________________\n",
      "dense (Dense)                (None, 64)                1351744   \n",
      "_________________________________________________________________\n",
      "dropout (Dropout)            (None, 64)                0         \n",
      "_________________________________________________________________\n",
      "dense_1 (Dense)              (None, 6)                 390       \n",
      "=================================================================\n",
      "Total params: 1,482,118\n",
      "Trainable params: 1,482,054\n",
      "Non-trainable params: 64\n",
      "_________________________________________________________________\n"
     ]
    }
   ],
   "source": [
    "model=Sequential()\n",
    "\n",
    "model.add(Conv2D(32, (7,7), strides=4, padding='same', input_shape=(target_size[0], target_size[1], 3), activation='relu'))\n",
    "model.add(BatchNormalization())\n",
    "model.add(MaxPooling2D(pool_size=3, strides=2))\n",
    "\n",
    "model.add(Conv2D(64, (5,5), padding='same', activation='relu'))\n",
    "model.add(MaxPooling2D(pool_size=2, strides=2))\n",
    "\n",
    "model.add(Conv2D(128, (3,3), padding='same', activation='relu'))\n",
    "model.add(MaxPooling2D(pool_size=2, strides=2))\n",
    "\n",
    "model.add(Flatten())\n",
    "model.add(Dense(64, activation='relu'))\n",
    "model.add(Dropout(0.1))\n",
    "model.add(Dense(6, activation='softmax'))\n",
    "\n",
    "# initial_learning_rate = 0.001\n",
    "# lr_schedule = tf.keras.optimizers.schedules.ExponentialDecay(\n",
    "#     initial_learning_rate,\n",
    "#     decay_steps=n_training_images*10//batch_size,\n",
    "#     decay_rate=0.9)\n",
    "\n",
    "\n",
    "opt = keras.optimizers.Adam(learning_rate=.001)\n",
    "\n",
    "model.compile(loss='categorical_crossentropy',\n",
    "             optimizer=opt, metrics=['accuracy'])\n",
    "\n",
    "model.summary()"
   ]
  },
  {
   "cell_type": "code",
   "execution_count": 5,
   "id": "employed-danish",
   "metadata": {},
   "outputs": [
    {
     "name": "stdout",
     "output_type": "stream",
     "text": [
      "Epoch 1/1000\n",
      "61/61 [==============================] - 176s 3s/step - loss: 2.1041 - accuracy: 0.2714 - val_loss: 1.6907 - val_accuracy: 0.2301\n",
      "Epoch 2/1000\n",
      "61/61 [==============================] - 169s 3s/step - loss: 1.4815 - accuracy: 0.4111 - val_loss: 1.7037 - val_accuracy: 0.2537\n",
      "Epoch 3/1000\n",
      "61/61 [==============================] - 168s 3s/step - loss: 1.3571 - accuracy: 0.4880 - val_loss: 1.6536 - val_accuracy: 0.2773\n",
      "Epoch 4/1000\n",
      "61/61 [==============================] - 167s 3s/step - loss: 1.2798 - accuracy: 0.5320 - val_loss: 1.6107 - val_accuracy: 0.3746\n",
      "Epoch 5/1000\n",
      "61/61 [==============================] - 169s 3s/step - loss: 1.1707 - accuracy: 0.5839 - val_loss: 1.4524 - val_accuracy: 0.3923\n",
      "Epoch 6/1000\n",
      "61/61 [==============================] - 168s 3s/step - loss: 1.1009 - accuracy: 0.5905 - val_loss: 1.4332 - val_accuracy: 0.4248\n",
      "Epoch 7/1000\n",
      "61/61 [==============================] - 168s 3s/step - loss: 1.1560 - accuracy: 0.5670 - val_loss: 1.6525 - val_accuracy: 0.3009\n",
      "Epoch 8/1000\n",
      "61/61 [==============================] - 167s 3s/step - loss: 1.1044 - accuracy: 0.5999 - val_loss: 2.1228 - val_accuracy: 0.3776\n",
      "Epoch 9/1000\n",
      "61/61 [==============================] - 174s 3s/step - loss: 1.0167 - accuracy: 0.6274 - val_loss: 3.9186 - val_accuracy: 0.3186\n",
      "Epoch 10/1000\n",
      "61/61 [==============================] - 174s 3s/step - loss: 0.9876 - accuracy: 0.6417 - val_loss: 1.4255 - val_accuracy: 0.4749\n",
      "Epoch 11/1000\n",
      "61/61 [==============================] - 178s 3s/step - loss: 1.0062 - accuracy: 0.6357 - val_loss: 1.3646 - val_accuracy: 0.4749\n",
      "Epoch 12/1000\n",
      "61/61 [==============================] - 176s 3s/step - loss: 0.9686 - accuracy: 0.6277 - val_loss: 1.6924 - val_accuracy: 0.4071\n",
      "Epoch 13/1000\n",
      "61/61 [==============================] - 150s 2s/step - loss: 0.8939 - accuracy: 0.6796 - val_loss: 2.5356 - val_accuracy: 0.3599\n",
      "Epoch 14/1000\n",
      "61/61 [==============================] - 152s 2s/step - loss: 0.9149 - accuracy: 0.6582 - val_loss: 5.7727 - val_accuracy: 0.2153\n",
      "Epoch 15/1000\n",
      "61/61 [==============================] - 148s 2s/step - loss: 0.8997 - accuracy: 0.6834 - val_loss: 1.1347 - val_accuracy: 0.5723\n",
      "Epoch 16/1000\n",
      "61/61 [==============================] - 152s 2s/step - loss: 0.8520 - accuracy: 0.6927 - val_loss: 4.3088 - val_accuracy: 0.2920\n",
      "Epoch 17/1000\n",
      "61/61 [==============================] - 148s 2s/step - loss: 0.8404 - accuracy: 0.6894 - val_loss: 1.2595 - val_accuracy: 0.5339\n",
      "Epoch 18/1000\n",
      "61/61 [==============================] - 151s 2s/step - loss: 0.8819 - accuracy: 0.6727 - val_loss: 1.3671 - val_accuracy: 0.5015\n",
      "Epoch 19/1000\n",
      "61/61 [==============================] - 147s 2s/step - loss: 0.7739 - accuracy: 0.7112 - val_loss: 2.3434 - val_accuracy: 0.3392\n",
      "Epoch 20/1000\n",
      "61/61 [==============================] - 149s 2s/step - loss: 0.8231 - accuracy: 0.6935 - val_loss: 1.8764 - val_accuracy: 0.4159\n",
      "Epoch 21/1000\n",
      "61/61 [==============================] - 152s 2s/step - loss: 0.7649 - accuracy: 0.7167 - val_loss: 1.0360 - val_accuracy: 0.6195\n",
      "Epoch 22/1000\n",
      "61/61 [==============================] - 148s 2s/step - loss: 0.6960 - accuracy: 0.7483 - val_loss: 1.4603 - val_accuracy: 0.4572\n",
      "Epoch 23/1000\n",
      "61/61 [==============================] - 149s 2s/step - loss: 0.7974 - accuracy: 0.7162 - val_loss: 1.0365 - val_accuracy: 0.6726\n",
      "Epoch 24/1000\n",
      "61/61 [==============================] - 150s 2s/step - loss: 0.7540 - accuracy: 0.7250 - val_loss: 1.2023 - val_accuracy: 0.5782\n",
      "Epoch 25/1000\n",
      "61/61 [==============================] - 149s 2s/step - loss: 0.6875 - accuracy: 0.7467 - val_loss: 1.1122 - val_accuracy: 0.6254\n",
      "Epoch 26/1000\n",
      "61/61 [==============================] - 148s 2s/step - loss: 0.6889 - accuracy: 0.7425 - val_loss: 1.0169 - val_accuracy: 0.6431\n",
      "Epoch 27/1000\n",
      "61/61 [==============================] - 148s 2s/step - loss: 0.6944 - accuracy: 0.7483 - val_loss: 3.1380 - val_accuracy: 0.3451\n",
      "Epoch 28/1000\n",
      "61/61 [==============================] - 152s 2s/step - loss: 0.6776 - accuracy: 0.7468 - val_loss: 1.1130 - val_accuracy: 0.6254\n",
      "Epoch 29/1000\n",
      "61/61 [==============================] - 149s 2s/step - loss: 0.6963 - accuracy: 0.7368 - val_loss: 1.0604 - val_accuracy: 0.5929\n",
      "Epoch 30/1000\n",
      "61/61 [==============================] - 148s 2s/step - loss: 0.6190 - accuracy: 0.7659 - val_loss: 1.4557 - val_accuracy: 0.5428\n",
      "Epoch 31/1000\n",
      "61/61 [==============================] - 148s 2s/step - loss: 0.6737 - accuracy: 0.7476 - val_loss: 0.9781 - val_accuracy: 0.6873\n",
      "Epoch 32/1000\n",
      "61/61 [==============================] - 150s 2s/step - loss: 0.6122 - accuracy: 0.7589 - val_loss: 1.8342 - val_accuracy: 0.5162\n",
      "Epoch 33/1000\n",
      "61/61 [==============================] - 150s 2s/step - loss: 0.5860 - accuracy: 0.7955 - val_loss: 3.1170 - val_accuracy: 0.3569\n",
      "Epoch 34/1000\n",
      "61/61 [==============================] - 148s 2s/step - loss: 0.6321 - accuracy: 0.7629 - val_loss: 1.0805 - val_accuracy: 0.6283\n",
      "Epoch 35/1000\n",
      "61/61 [==============================] - 152s 2s/step - loss: 0.5381 - accuracy: 0.8050 - val_loss: 0.9538 - val_accuracy: 0.6667\n",
      "Epoch 36/1000\n",
      "61/61 [==============================] - 153s 2s/step - loss: 0.5917 - accuracy: 0.7838 - val_loss: 1.4223 - val_accuracy: 0.5369\n",
      "Epoch 37/1000\n",
      "61/61 [==============================] - 150s 2s/step - loss: 0.5366 - accuracy: 0.8100 - val_loss: 0.9722 - val_accuracy: 0.6313\n",
      "Epoch 38/1000\n",
      "61/61 [==============================] - 149s 2s/step - loss: 0.5162 - accuracy: 0.8171 - val_loss: 1.4978 - val_accuracy: 0.5546\n",
      "Epoch 39/1000\n",
      "61/61 [==============================] - 149s 2s/step - loss: 0.5376 - accuracy: 0.7969 - val_loss: 0.9522 - val_accuracy: 0.6696\n",
      "Epoch 40/1000\n",
      "61/61 [==============================] - 152s 3s/step - loss: 0.5496 - accuracy: 0.8016 - val_loss: 0.8941 - val_accuracy: 0.7109\n",
      "Epoch 41/1000\n",
      "61/61 [==============================] - 149s 2s/step - loss: 0.5166 - accuracy: 0.8148 - val_loss: 1.6021 - val_accuracy: 0.5546\n",
      "Epoch 42/1000\n",
      "61/61 [==============================] - 148s 2s/step - loss: 0.5479 - accuracy: 0.8001 - val_loss: 1.2010 - val_accuracy: 0.6372\n",
      "Epoch 43/1000\n",
      "61/61 [==============================] - 150s 2s/step - loss: 0.5392 - accuracy: 0.8080 - val_loss: 1.2928 - val_accuracy: 0.6165\n",
      "Epoch 44/1000\n",
      "61/61 [==============================] - 150s 2s/step - loss: 0.6012 - accuracy: 0.7845 - val_loss: 1.6929 - val_accuracy: 0.5133\n",
      "Epoch 45/1000\n",
      "61/61 [==============================] - 149s 2s/step - loss: 0.4920 - accuracy: 0.8287 - val_loss: 1.3456 - val_accuracy: 0.5605\n",
      "Epoch 46/1000\n",
      "61/61 [==============================] - 149s 2s/step - loss: 0.4356 - accuracy: 0.8465 - val_loss: 1.2044 - val_accuracy: 0.6165\n",
      "Epoch 47/1000\n",
      "61/61 [==============================] - 148s 2s/step - loss: 0.4534 - accuracy: 0.8530 - val_loss: 1.0051 - val_accuracy: 0.6814\n",
      "Epoch 48/1000\n",
      "61/61 [==============================] - 150s 2s/step - loss: 0.4462 - accuracy: 0.8389 - val_loss: 1.0563 - val_accuracy: 0.6578\n",
      "Epoch 49/1000\n",
      "61/61 [==============================] - 148s 2s/step - loss: 0.4501 - accuracy: 0.8303 - val_loss: 2.4562 - val_accuracy: 0.4189\n",
      "Epoch 50/1000\n",
      "61/61 [==============================] - 149s 2s/step - loss: 0.4694 - accuracy: 0.8272 - val_loss: 0.9393 - val_accuracy: 0.6844\n"
     ]
    }
   ],
   "source": [
    "checkpoint_cb = keras.callbacks.ModelCheckpoint('conv_pool_batch_96_layer1_filters.h5')\n",
    "early_stopping_cb = keras.callbacks.EarlyStopping(patience=10, restore_best_weights=True)\n",
    "tensorboard_cb = keras.callbacks.TensorBoard(get_run_logdir())\n",
    "\n",
    "\n",
    "history = model.fit(\n",
    "    train_generator,\n",
    "    validation_data = validation_generator, \n",
    "    verbose=1,\n",
    "    epochs = 1000,\n",
    "    callbacks=[checkpoint_cb, early_stopping_cb, tensorboard_cb])"
   ]
  },
  {
   "cell_type": "code",
   "execution_count": 6,
   "id": "ruled-keeping",
   "metadata": {},
   "outputs": [
    {
     "name": "stdout",
     "output_type": "stream",
     "text": [
      "Holdout accuracy: 0.824701189994812\n"
     ]
    }
   ],
   "source": [
    "score = model.evaluate(holdout_generator, verbose=0)\n",
    "print('Holdout accuracy:', score[1])"
   ]
  },
  {
   "cell_type": "code",
   "execution_count": 8,
   "id": "liberal-constitutional",
   "metadata": {},
   "outputs": [
    {
     "data": {
      "image/png": "[encoded data removed]",
      "text/plain": [
       "<Figure size 432x288 with 1 Axes>"
      ]
     },
     "metadata": {
      "needs_background": "light"
     },
     "output_type": "display_data"
    }
   ],
   "source": [
    "import matplotlib.pyplot as plt\n",
    "\n",
    "[plt.plot(history.history[i], label=i) for i in history.history.keys()]\n",
    "plt.ylim(top=3)\n",
    "plt.legend();"
   ]
  },
  {
   "cell_type": "code",
   "execution_count": null,
   "id": "fantastic-stations",
   "metadata": {},
   "outputs": [],
   "source": []
  }
 ],
 "metadata": {
  "kernelspec": {
   "display_name": "Python 3",
   "language": "python",
   "name": "python3"
  },
  "language_info": {
   "codemirror_mode": {
    "name": "ipython",
    "version": 3
   },
   "file_extension": ".py",
   "mimetype": "text/x-python",
   "name": "python",
   "nbconvert_exporter": "python",
   "pygments_lexer": "ipython3",
   "version": "3.8.8"
  }
 },
 "nbformat": 4,
 "nbformat_minor": 5
}
