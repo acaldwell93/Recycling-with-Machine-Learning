{
 "cells": [
  {
   "cell_type": "markdown",
   "id": "natural-crowd",
   "metadata": {},
   "source": [
    "### This CNN uses three conv-pool blocks, with doubling number of filters used per block. Two dense layers at the end."
   ]
  },
  {
   "cell_type": "code",
   "execution_count": 1,
   "id": "ignored-graphic",
   "metadata": {},
   "outputs": [],
   "source": [
    "import tensorflow as tf\n",
    "from tensorflow import keras\n",
    "from tensorflow.keras.models import Sequential\n",
    "from tensorflow.keras.layers import Dense, Dropout, Activation, Flatten, BatchNormalization, InputLayer\n",
    "from tensorflow.keras.layers import Conv2D, MaxPooling2D\n",
    "from tensorflow.keras.preprocessing.image import ImageDataGenerator, array_to_img, img_to_array, load_img"
   ]
  },
  {
   "cell_type": "code",
   "execution_count": 2,
   "id": "satellite-sympathy",
   "metadata": {},
   "outputs": [],
   "source": [
    "import os\n",
    "root_logdir = os.path.join(os.curdir, \"model6_logs\")\n",
    "\n",
    "def get_run_logdir():\n",
    "    import time\n",
    "    run_id = time.strftime(\"run_%Y_%m_%d-%H_%M_%S\")\n",
    "    return os.path.join(root_logdir, run_id)"
   ]
  },
  {
   "cell_type": "code",
   "execution_count": 3,
   "id": "private-agent",
   "metadata": {},
   "outputs": [
    {
     "name": "stdout",
     "output_type": "stream",
     "text": [
      "Found 2051 images belonging to 6 classes.\n",
      "Found 225 images belonging to 6 classes.\n",
      "Found 251 images belonging to 6 classes.\n"
     ]
    },
    {
     "data": {
      "text/plain": [
       "{0: 'cardboard', 1: 'glass', 2: 'metal', 3: 'paper', 4: 'plastic', 5: 'trash'}"
      ]
     },
     "execution_count": 3,
     "metadata": {},
     "output_type": "execute_result"
    }
   ],
   "source": [
    "batch_size = 32\n",
    "target_size = (175,175)\n",
    "\n",
    "train_datagen = ImageDataGenerator(rescale=1./255,\n",
    "                                  shear_range=0.1,\n",
    "                                  zoom_range=0.1,\n",
    "                                  horizontal_flip=True,\n",
    "                                  vertical_flip=True,\n",
    "                                  width_shift_range = 0.1,\n",
    "                                  height_shift_range = 0.1,\n",
    "                                  validation_split=0.1)\n",
    "\n",
    "test_datagen = ImageDataGenerator(rescale=1./255, \n",
    "                                  validation_split=0.1)\n",
    "\n",
    "\n",
    "train_generator = train_datagen.flow_from_directory('../data/images/train',\n",
    "                                                    color_mode='rgb',\n",
    "                                                    target_size=target_size,\n",
    "                                                    batch_size=batch_size,\n",
    "                                                    class_mode=\"categorical\",\n",
    "                                                    subset='training')\n",
    "\n",
    "validation_generator = test_datagen.flow_from_directory('../data/images/train',\n",
    "                                                       color_mode='rgb',\n",
    "                                                       target_size=target_size,\n",
    "                                                       batch_size=batch_size,\n",
    "                                                       class_mode='categorical',\n",
    "                                                       subset='validation')\n",
    "\n",
    "holdout_generator = test_datagen.flow_from_directory('../data/images/holdout',\n",
    "                                                       color_mode='rgb',\n",
    "                                                       target_size=target_size,\n",
    "                                                       batch_size=batch_size,\n",
    "                                                       class_mode='categorical')\n",
    "\n",
    "labels = (train_generator.class_indices)\n",
    "labels = dict((v, k) for k,v in labels.items())\n",
    "labels\n"
   ]
  },
  {
   "cell_type": "code",
   "execution_count": 4,
   "id": "remarkable-rwanda",
   "metadata": {},
   "outputs": [
    {
     "name": "stdout",
     "output_type": "stream",
     "text": [
      "Model: \"sequential\"\n",
      "_________________________________________________________________\n",
      "Layer (type)                 Output Shape              Param #   \n",
      "=================================================================\n",
      "conv2d (Conv2D)              (None, 175, 175, 32)      896       \n",
      "_________________________________________________________________\n",
      "max_pooling2d (MaxPooling2D) (None, 87, 87, 32)        0         \n",
      "_________________________________________________________________\n",
      "conv2d_1 (Conv2D)            (None, 87, 87, 64)        18496     \n",
      "_________________________________________________________________\n",
      "max_pooling2d_1 (MaxPooling2 (None, 43, 43, 64)        0         \n",
      "_________________________________________________________________\n",
      "conv2d_2 (Conv2D)            (None, 43, 43, 128)       73856     \n",
      "_________________________________________________________________\n",
      "max_pooling2d_2 (MaxPooling2 (None, 21, 21, 128)       0         \n",
      "_________________________________________________________________\n",
      "flatten (Flatten)            (None, 56448)             0         \n",
      "_________________________________________________________________\n",
      "dense (Dense)                (None, 64)                3612736   \n",
      "_________________________________________________________________\n",
      "dense_1 (Dense)              (None, 6)                 390       \n",
      "=================================================================\n",
      "Total params: 3,706,374\n",
      "Trainable params: 3,706,374\n",
      "Non-trainable params: 0\n",
      "_________________________________________________________________\n"
     ]
    }
   ],
   "source": [
    "model=Sequential()\n",
    "\n",
    "model.add(Conv2D(32, (3,3), padding='same', input_shape=(target_size[0], target_size[1], 3), activation='relu'))\n",
    "model.add(MaxPooling2D(pool_size=2, strides=2))\n",
    "\n",
    "model.add(Conv2D(64, (3,3), padding='same', activation='relu'))\n",
    "model.add(MaxPooling2D(pool_size=2, strides=2))\n",
    "\n",
    "model.add(Conv2D(128, (3,3), padding='same', activation='relu'))\n",
    "model.add(MaxPooling2D(pool_size=2, strides=2))\n",
    "\n",
    "model.add(Flatten())\n",
    "model.add(Dense(64, activation='relu'))\n",
    "model.add(Dense(6, activation='softmax'))\n",
    "\n",
    "\n",
    "model.compile(loss='categorical_crossentropy',\n",
    "             optimizer='adam', metrics=['accuracy'])\n",
    "\n",
    "model.summary()"
   ]
  },
  {
   "cell_type": "code",
   "execution_count": 5,
   "id": "isolated-particle",
   "metadata": {},
   "outputs": [
    {
     "name": "stdout",
     "output_type": "stream",
     "text": [
      "Epoch 1/50\n",
      "65/65 [==============================] - 91s 1s/step - loss: 1.8048 - accuracy: 0.2659 - val_loss: 1.4830 - val_accuracy: 0.3689\n",
      "Epoch 2/50\n",
      "65/65 [==============================] - 90s 1s/step - loss: 1.4408 - accuracy: 0.4113 - val_loss: 1.5523 - val_accuracy: 0.4000\n",
      "Epoch 3/50\n",
      "65/65 [==============================] - 93s 1s/step - loss: 1.3704 - accuracy: 0.4477 - val_loss: 1.3341 - val_accuracy: 0.4800\n",
      "Epoch 4/50\n",
      "65/65 [==============================] - 91s 1s/step - loss: 1.2760 - accuracy: 0.4885 - val_loss: 1.2842 - val_accuracy: 0.4711\n",
      "Epoch 5/50\n",
      "65/65 [==============================] - 102s 2s/step - loss: 1.2262 - accuracy: 0.5341 - val_loss: 1.2542 - val_accuracy: 0.5022\n",
      "Epoch 6/50\n",
      "65/65 [==============================] - 92s 1s/step - loss: 1.1735 - accuracy: 0.5281 - val_loss: 1.2972 - val_accuracy: 0.4756\n",
      "Epoch 7/50\n",
      "65/65 [==============================] - 95s 1s/step - loss: 1.2241 - accuracy: 0.5013 - val_loss: 1.1769 - val_accuracy: 0.5556\n",
      "Epoch 8/50\n",
      "65/65 [==============================] - 92s 1s/step - loss: 1.1661 - accuracy: 0.5466 - val_loss: 1.1857 - val_accuracy: 0.5289\n",
      "Epoch 9/50\n",
      "65/65 [==============================] - 88s 1s/step - loss: 1.0369 - accuracy: 0.6087 - val_loss: 1.3858 - val_accuracy: 0.4711\n",
      "Epoch 10/50\n",
      "65/65 [==============================] - 89s 1s/step - loss: 1.0593 - accuracy: 0.5958 - val_loss: 1.1820 - val_accuracy: 0.5689\n",
      "Epoch 11/50\n",
      "65/65 [==============================] - 96s 1s/step - loss: 0.9771 - accuracy: 0.6312 - val_loss: 1.2174 - val_accuracy: 0.5067\n",
      "Epoch 12/50\n",
      "65/65 [==============================] - 92s 1s/step - loss: 0.9631 - accuracy: 0.6374 - val_loss: 1.0899 - val_accuracy: 0.5600\n",
      "Epoch 13/50\n",
      "65/65 [==============================] - 89s 1s/step - loss: 0.9806 - accuracy: 0.6302 - val_loss: 1.1157 - val_accuracy: 0.5467\n",
      "Epoch 14/50\n",
      "65/65 [==============================] - 91s 1s/step - loss: 0.9040 - accuracy: 0.6762 - val_loss: 1.1036 - val_accuracy: 0.5822\n",
      "Epoch 15/50\n",
      "65/65 [==============================] - 92s 1s/step - loss: 0.9243 - accuracy: 0.6541 - val_loss: 1.2340 - val_accuracy: 0.5244\n",
      "Epoch 16/50\n",
      "65/65 [==============================] - 89s 1s/step - loss: 0.9198 - accuracy: 0.6488 - val_loss: 1.0406 - val_accuracy: 0.6089\n",
      "Epoch 17/50\n",
      "65/65 [==============================] - 90s 1s/step - loss: 0.8725 - accuracy: 0.6793 - val_loss: 1.0536 - val_accuracy: 0.5867\n",
      "Epoch 18/50\n",
      "65/65 [==============================] - 90s 1s/step - loss: 0.8157 - accuracy: 0.7092 - val_loss: 1.0683 - val_accuracy: 0.5733\n",
      "Epoch 19/50\n",
      "65/65 [==============================] - 89s 1s/step - loss: 0.8374 - accuracy: 0.6819 - val_loss: 1.2417 - val_accuracy: 0.5467\n",
      "Epoch 20/50\n",
      "65/65 [==============================] - 89s 1s/step - loss: 0.9191 - accuracy: 0.6543 - val_loss: 1.1034 - val_accuracy: 0.5956\n",
      "Epoch 21/50\n",
      "65/65 [==============================] - 91s 1s/step - loss: 0.8035 - accuracy: 0.7084 - val_loss: 0.9517 - val_accuracy: 0.6578\n",
      "Epoch 22/50\n",
      "65/65 [==============================] - 92s 1s/step - loss: 0.7634 - accuracy: 0.7093 - val_loss: 0.9487 - val_accuracy: 0.6222\n",
      "Epoch 23/50\n",
      "65/65 [==============================] - 91s 1s/step - loss: 0.7334 - accuracy: 0.7329 - val_loss: 0.8844 - val_accuracy: 0.6533\n",
      "Epoch 24/50\n",
      "65/65 [==============================] - 93s 1s/step - loss: 0.7302 - accuracy: 0.7321 - val_loss: 0.9803 - val_accuracy: 0.6267\n",
      "Epoch 25/50\n",
      "65/65 [==============================] - 84s 1s/step - loss: 0.7053 - accuracy: 0.7505 - val_loss: 1.1169 - val_accuracy: 0.6044\n",
      "Epoch 26/50\n",
      "65/65 [==============================] - 83s 1s/step - loss: 0.6926 - accuracy: 0.7350 - val_loss: 0.8686 - val_accuracy: 0.6933\n",
      "Epoch 27/50\n",
      "65/65 [==============================] - 82s 1s/step - loss: 0.6286 - accuracy: 0.7822 - val_loss: 0.8390 - val_accuracy: 0.7333\n",
      "Epoch 28/50\n",
      "65/65 [==============================] - 80s 1s/step - loss: 0.6610 - accuracy: 0.7645 - val_loss: 0.9062 - val_accuracy: 0.7022\n",
      "Epoch 29/50\n",
      "65/65 [==============================] - 83s 1s/step - loss: 0.5920 - accuracy: 0.7812 - val_loss: 0.9570 - val_accuracy: 0.6933\n",
      "Epoch 30/50\n",
      "65/65 [==============================] - 80s 1s/step - loss: 0.6205 - accuracy: 0.7853 - val_loss: 1.0062 - val_accuracy: 0.6400\n",
      "Epoch 31/50\n",
      "65/65 [==============================] - 80s 1s/step - loss: 0.5893 - accuracy: 0.7764 - val_loss: 0.9528 - val_accuracy: 0.6533\n",
      "Epoch 32/50\n",
      "65/65 [==============================] - 87s 1s/step - loss: 0.5741 - accuracy: 0.7907 - val_loss: 0.9398 - val_accuracy: 0.6889\n",
      "Epoch 33/50\n",
      "65/65 [==============================] - 80s 1s/step - loss: 0.5853 - accuracy: 0.7950 - val_loss: 0.8387 - val_accuracy: 0.6978\n",
      "Epoch 34/50\n",
      "65/65 [==============================] - 80s 1s/step - loss: 0.5372 - accuracy: 0.7941 - val_loss: 0.8703 - val_accuracy: 0.6933\n",
      "Epoch 35/50\n",
      "65/65 [==============================] - 83s 1s/step - loss: 0.5056 - accuracy: 0.8209 - val_loss: 0.9343 - val_accuracy: 0.6844\n",
      "Epoch 36/50\n",
      "65/65 [==============================] - 84s 1s/step - loss: 0.5548 - accuracy: 0.7990 - val_loss: 0.9818 - val_accuracy: 0.6711\n",
      "Epoch 37/50\n",
      "65/65 [==============================] - 82s 1s/step - loss: 0.5110 - accuracy: 0.8141 - val_loss: 0.8820 - val_accuracy: 0.7067\n",
      "Epoch 38/50\n",
      "65/65 [==============================] - 82s 1s/step - loss: 0.5307 - accuracy: 0.8118 - val_loss: 1.1743 - val_accuracy: 0.6267\n",
      "Epoch 39/50\n",
      "65/65 [==============================] - 86s 1s/step - loss: 0.4933 - accuracy: 0.8168 - val_loss: 0.9417 - val_accuracy: 0.6711\n",
      "Epoch 40/50\n",
      "65/65 [==============================] - 80s 1s/step - loss: 0.5191 - accuracy: 0.8105 - val_loss: 0.9108 - val_accuracy: 0.6889\n",
      "Epoch 41/50\n",
      "65/65 [==============================] - 79s 1s/step - loss: 0.4285 - accuracy: 0.8408 - val_loss: 0.9196 - val_accuracy: 0.7067\n",
      "Epoch 42/50\n",
      "65/65 [==============================] - 80s 1s/step - loss: 0.4300 - accuracy: 0.8359 - val_loss: 1.0663 - val_accuracy: 0.7067\n",
      "Epoch 43/50\n",
      "65/65 [==============================] - 81s 1s/step - loss: 0.4649 - accuracy: 0.8352 - val_loss: 0.7838 - val_accuracy: 0.7111\n",
      "Epoch 44/50\n",
      "65/65 [==============================] - 85s 1s/step - loss: 0.5233 - accuracy: 0.8005 - val_loss: 0.9504 - val_accuracy: 0.7289\n",
      "Epoch 45/50\n",
      "65/65 [==============================] - 80s 1s/step - loss: 0.4202 - accuracy: 0.8463 - val_loss: 0.9331 - val_accuracy: 0.7067\n",
      "Epoch 46/50\n",
      "65/65 [==============================] - 84s 1s/step - loss: 0.4337 - accuracy: 0.8430 - val_loss: 0.9315 - val_accuracy: 0.6978\n",
      "Epoch 47/50\n",
      "65/65 [==============================] - 86s 1s/step - loss: 0.4265 - accuracy: 0.8530 - val_loss: 0.9361 - val_accuracy: 0.7067\n",
      "Epoch 48/50\n",
      "65/65 [==============================] - 83s 1s/step - loss: 0.3379 - accuracy: 0.8851 - val_loss: 1.1284 - val_accuracy: 0.6578\n",
      "Epoch 49/50\n",
      "65/65 [==============================] - 81s 1s/step - loss: 0.4021 - accuracy: 0.8600 - val_loss: 0.8721 - val_accuracy: 0.7111\n",
      "Epoch 50/50\n",
      "65/65 [==============================] - 81s 1s/step - loss: 0.4176 - accuracy: 0.8477 - val_loss: 0.9310 - val_accuracy: 0.7600\n"
     ]
    }
   ],
   "source": [
    "checkpoint_cb = keras.callbacks.ModelCheckpoint('conv_pool.h5')\n",
    "early_stopping_cb = keras.callbacks.EarlyStopping(patience=10, restore_best_weights=True)\n",
    "tensorboard_cb = keras.callbacks.TensorBoard(get_run_logdir())\n",
    "\n",
    "\n",
    "history = model.fit(\n",
    "    train_generator,\n",
    "    validation_data = validation_generator, \n",
    "    verbose=1,\n",
    "    epochs = 50,\n",
    "    callbacks=[checkpoint_cb, early_stopping_cb, tensorboard_cb])"
   ]
  },
  {
   "cell_type": "code",
   "execution_count": 6,
   "id": "improving-underwear",
   "metadata": {},
   "outputs": [
    {
     "name": "stdout",
     "output_type": "stream",
     "text": [
      "Holdout accuracy: 0.8167330622673035\n"
     ]
    }
   ],
   "source": [
    "score = model.evaluate(holdout_generator, verbose=0)\n",
    "print('Holdout accuracy:', score[1])"
   ]
  },
  {
   "cell_type": "code",
   "execution_count": null,
   "id": "interim-birmingham",
   "metadata": {},
   "outputs": [],
   "source": []
  }
 ],
 "metadata": {
  "kernelspec": {
   "display_name": "Python 3",
   "language": "python",
   "name": "python3"
  },
  "language_info": {
   "codemirror_mode": {
    "name": "ipython",
    "version": 3
   },
   "file_extension": ".py",
   "mimetype": "text/x-python",
   "name": "python",
   "nbconvert_exporter": "python",
   "pygments_lexer": "ipython3",
   "version": "3.8.8"
  }
 },
 "nbformat": 4,
 "nbformat_minor": 5
}
