{
 "cells": [
  {
   "cell_type": "markdown",
   "id": "tracked-landscape",
   "metadata": {},
   "source": [
    "### This CNN uses three conv-pool blocks, with doubling number of filters used per block. Two dense layers at the end."
   ]
  },
  {
   "cell_type": "code",
   "execution_count": 1,
   "id": "floating-confirmation",
   "metadata": {},
   "outputs": [],
   "source": [
    "import tensorflow as tf\n",
    "from tensorflow import keras\n",
    "from tensorflow.keras.models import Sequential\n",
    "from tensorflow.keras.layers import Dense, Dropout, Activation, Flatten, BatchNormalization, InputLayer\n",
    "from tensorflow.keras.layers import Conv2D, MaxPooling2D\n",
    "from tensorflow.keras.preprocessing.image import ImageDataGenerator, array_to_img, img_to_array, load_img"
   ]
  },
  {
   "cell_type": "code",
   "execution_count": 3,
   "id": "mathematical-uncertainty",
   "metadata": {},
   "outputs": [],
   "source": [
    "import os\n",
    "root_logdir = os.path.join(os.curdir, \"conv_pool_batch_large_kernel_multi_conv_logs\")\n",
    "\n",
    "def get_run_logdir():\n",
    "    import time\n",
    "    run_id = time.strftime(\"run_%Y_%m_%d-%H_%M_%S\")\n",
    "    return os.path.join(root_logdir, run_id)"
   ]
  },
  {
   "cell_type": "code",
   "execution_count": 2,
   "id": "regulated-macedonia",
   "metadata": {},
   "outputs": [
    {
     "name": "stdout",
     "output_type": "stream",
     "text": [
      "Found 1937 images belonging to 6 classes.\n",
      "Found 339 images belonging to 6 classes.\n",
      "Found 251 images belonging to 6 classes.\n"
     ]
    },
    {
     "data": {
      "text/plain": [
       "{0: 'cardboard', 1: 'glass', 2: 'metal', 3: 'paper', 4: 'plastic', 5: 'trash'}"
      ]
     },
     "execution_count": 2,
     "metadata": {},
     "output_type": "execute_result"
    }
   ],
   "source": [
    "batch_size = 32\n",
    "target_size = (512,384)\n",
    "n_training_images = 2051\n",
    "\n",
    "train_datagen = ImageDataGenerator(rescale=1./255,\n",
    "                                  shear_range=0.1,\n",
    "                                  zoom_range=0.1,\n",
    "                                  rotation_range=10,\n",
    "                                  horizontal_flip=True,\n",
    "                                  vertical_flip=True,\n",
    "                                  width_shift_range = 0.1,\n",
    "                                  height_shift_range = 0.1,\n",
    "                                  validation_split=0.15)\n",
    "\n",
    "test_datagen = ImageDataGenerator(rescale=1./255, \n",
    "                                  validation_split=0.15)\n",
    "\n",
    "\n",
    "train_generator = train_datagen.flow_from_directory('../data/images/train',\n",
    "                                                    color_mode='rgb',\n",
    "                                                    target_size=target_size,\n",
    "                                                    batch_size=batch_size,\n",
    "                                                    class_mode=\"categorical\",\n",
    "                                                    subset='training')\n",
    "\n",
    "validation_generator = test_datagen.flow_from_directory('../data/images/train',\n",
    "                                                       color_mode='rgb',\n",
    "                                                       target_size=target_size,\n",
    "                                                       batch_size=batch_size,\n",
    "                                                       class_mode='categorical',\n",
    "                                                       subset='validation')\n",
    "\n",
    "holdout_generator = test_datagen.flow_from_directory('../data/images/holdout',\n",
    "                                                       color_mode='rgb',\n",
    "                                                       target_size=target_size,\n",
    "                                                       batch_size=batch_size,\n",
    "                                                       class_mode='categorical')\n",
    "\n",
    "labels = (train_generator.class_indices)\n",
    "labels = dict((v, k) for k,v in labels.items())\n",
    "labels\n"
   ]
  },
  {
   "cell_type": "code",
   "execution_count": 6,
   "id": "portuguese-clearing",
   "metadata": {},
   "outputs": [
    {
     "name": "stdout",
     "output_type": "stream",
     "text": [
      "Model: \"sequential_2\"\n",
      "_________________________________________________________________\n",
      "Layer (type)                 Output Shape              Param #   \n",
      "=================================================================\n",
      "conv2d_7 (Conv2D)            (None, 128, 96, 32)       4736      \n",
      "_________________________________________________________________\n",
      "batch_normalization_2 (Batch (None, 128, 96, 32)       128       \n",
      "_________________________________________________________________\n",
      "max_pooling2d_6 (MaxPooling2 (None, 63, 47, 32)        0         \n",
      "_________________________________________________________________\n",
      "conv2d_8 (Conv2D)            (None, 63, 47, 64)        51264     \n",
      "_________________________________________________________________\n",
      "max_pooling2d_7 (MaxPooling2 (None, 31, 23, 64)        0         \n",
      "_________________________________________________________________\n",
      "conv2d_9 (Conv2D)            (None, 31, 23, 128)       73856     \n",
      "_________________________________________________________________\n",
      "conv2d_10 (Conv2D)           (None, 31, 23, 128)       147584    \n",
      "_________________________________________________________________\n",
      "max_pooling2d_8 (MaxPooling2 (None, 15, 11, 128)       0         \n",
      "_________________________________________________________________\n",
      "flatten_2 (Flatten)          (None, 21120)             0         \n",
      "_________________________________________________________________\n",
      "dense_4 (Dense)              (None, 64)                1351744   \n",
      "_________________________________________________________________\n",
      "dropout_2 (Dropout)          (None, 64)                0         \n",
      "_________________________________________________________________\n",
      "dense_5 (Dense)              (None, 6)                 390       \n",
      "=================================================================\n",
      "Total params: 1,629,702\n",
      "Trainable params: 1,629,638\n",
      "Non-trainable params: 64\n",
      "_________________________________________________________________\n"
     ]
    }
   ],
   "source": [
    "model=Sequential()\n",
    "\n",
    "model.add(Conv2D(32, (7,7), strides=4, padding='same', input_shape=(target_size[0], target_size[1], 3), activation='relu'))\n",
    "model.add(BatchNormalization())\n",
    "model.add(MaxPooling2D(pool_size=3, strides=2))\n",
    "\n",
    "model.add(Conv2D(64, (5,5), padding='same', activation='relu'))\n",
    "model.add(MaxPooling2D(pool_size=2, strides=2))\n",
    "\n",
    "model.add(Conv2D(128, (3,3), padding='same', activation='relu'))\n",
    "model.add(Conv2D(128, (3,3), padding='same', activation='relu'))\n",
    "model.add(MaxPooling2D(pool_size=2, strides=2))\n",
    "\n",
    "model.add(Flatten())\n",
    "model.add(Dense(64, activation='relu'))\n",
    "model.add(Dropout(0.1))\n",
    "model.add(Dense(6, activation='softmax'))\n",
    "\n",
    "# initial_learning_rate = 0.001\n",
    "# lr_schedule = tf.keras.optimizers.schedules.ExponentialDecay(\n",
    "#     initial_learning_rate,\n",
    "#     decay_steps=n_training_images*10//batch_size,\n",
    "#     decay_rate=0.9)\n",
    "\n",
    "\n",
    "opt = keras.optimizers.Adam(learning_rate=.001)\n",
    "\n",
    "model.compile(loss='categorical_crossentropy',\n",
    "             optimizer=opt, metrics=['accuracy'])\n",
    "\n",
    "model.summary()"
   ]
  },
  {
   "cell_type": "code",
   "execution_count": 7,
   "id": "intelligent-librarian",
   "metadata": {},
   "outputs": [
    {
     "name": "stdout",
     "output_type": "stream",
     "text": [
      "Epoch 1/1000\n",
      "61/61 [==============================] - 153s 2s/step - loss: 1.8015 - accuracy: 0.2807 - val_loss: 1.8002 - val_accuracy: 0.1593\n",
      "Epoch 2/1000\n",
      "61/61 [==============================] - 148s 2s/step - loss: 1.4117 - accuracy: 0.4508 - val_loss: 1.8181 - val_accuracy: 0.1976\n",
      "Epoch 3/1000\n",
      "61/61 [==============================] - 150s 2s/step - loss: 1.3478 - accuracy: 0.4950 - val_loss: 1.7755 - val_accuracy: 0.2773\n",
      "Epoch 4/1000\n",
      "61/61 [==============================] - 148s 2s/step - loss: 1.2494 - accuracy: 0.5142 - val_loss: 1.7375 - val_accuracy: 0.3215\n",
      "Epoch 5/1000\n",
      "61/61 [==============================] - 149s 2s/step - loss: 1.2552 - accuracy: 0.5364 - val_loss: 2.4038 - val_accuracy: 0.2625\n",
      "Epoch 6/1000\n",
      "61/61 [==============================] - 149s 2s/step - loss: 1.1405 - accuracy: 0.5828 - val_loss: 1.4617 - val_accuracy: 0.4513\n",
      "Epoch 7/1000\n",
      "61/61 [==============================] - 153s 2s/step - loss: 1.0772 - accuracy: 0.5833 - val_loss: 1.5391 - val_accuracy: 0.4130\n",
      "Epoch 8/1000\n",
      "61/61 [==============================] - 149s 2s/step - loss: 1.1146 - accuracy: 0.5804 - val_loss: 1.4551 - val_accuracy: 0.4513\n",
      "Epoch 9/1000\n",
      "61/61 [==============================] - 149s 2s/step - loss: 1.0583 - accuracy: 0.6170 - val_loss: 1.8599 - val_accuracy: 0.3776\n",
      "Epoch 10/1000\n",
      "61/61 [==============================] - 149s 2s/step - loss: 0.9762 - accuracy: 0.6444 - val_loss: 3.3364 - val_accuracy: 0.2271\n",
      "Epoch 11/1000\n",
      "61/61 [==============================] - 151s 2s/step - loss: 1.0110 - accuracy: 0.6169 - val_loss: 1.1494 - val_accuracy: 0.5516\n",
      "Epoch 12/1000\n",
      "61/61 [==============================] - 149s 2s/step - loss: 0.9778 - accuracy: 0.6515 - val_loss: 1.4564 - val_accuracy: 0.4484\n",
      "Epoch 13/1000\n",
      "61/61 [==============================] - 151s 2s/step - loss: 0.9526 - accuracy: 0.6432 - val_loss: 1.3260 - val_accuracy: 0.5074\n",
      "Epoch 14/1000\n",
      "61/61 [==============================] - 148s 2s/step - loss: 0.9234 - accuracy: 0.6533 - val_loss: 1.2707 - val_accuracy: 0.4985\n",
      "Epoch 15/1000\n",
      "61/61 [==============================] - 150s 2s/step - loss: 0.8846 - accuracy: 0.6566 - val_loss: 1.1474 - val_accuracy: 0.5752\n",
      "Epoch 16/1000\n",
      "61/61 [==============================] - 147s 2s/step - loss: 0.8129 - accuracy: 0.6901 - val_loss: 1.1540 - val_accuracy: 0.5664\n",
      "Epoch 17/1000\n",
      "61/61 [==============================] - 147s 2s/step - loss: 0.8513 - accuracy: 0.6902 - val_loss: 1.8680 - val_accuracy: 0.4484\n",
      "Epoch 18/1000\n",
      "61/61 [==============================] - 146s 2s/step - loss: 0.8141 - accuracy: 0.6890 - val_loss: 3.7180 - val_accuracy: 0.3510\n",
      "Epoch 19/1000\n",
      "61/61 [==============================] - 152s 2s/step - loss: 0.8128 - accuracy: 0.7066 - val_loss: 1.8447 - val_accuracy: 0.4454\n",
      "Epoch 20/1000\n",
      "61/61 [==============================] - 147s 2s/step - loss: 0.7619 - accuracy: 0.7203 - val_loss: 2.4554 - val_accuracy: 0.3805\n",
      "Epoch 21/1000\n",
      "61/61 [==============================] - 149s 2s/step - loss: 0.7282 - accuracy: 0.7319 - val_loss: 1.2225 - val_accuracy: 0.6224\n",
      "Epoch 22/1000\n",
      "61/61 [==============================] - 148s 2s/step - loss: 0.8832 - accuracy: 0.6717 - val_loss: 1.3920 - val_accuracy: 0.4985\n",
      "Epoch 23/1000\n",
      "61/61 [==============================] - 150s 2s/step - loss: 0.8118 - accuracy: 0.7088 - val_loss: 2.2407 - val_accuracy: 0.4248\n",
      "Epoch 24/1000\n",
      "61/61 [==============================] - 148s 2s/step - loss: 0.7673 - accuracy: 0.7293 - val_loss: 1.0131 - val_accuracy: 0.6490\n",
      "Epoch 25/1000\n",
      "61/61 [==============================] - 148s 2s/step - loss: 0.6787 - accuracy: 0.7522 - val_loss: 1.2620 - val_accuracy: 0.5605\n",
      "Epoch 26/1000\n",
      "61/61 [==============================] - 148s 2s/step - loss: 0.6607 - accuracy: 0.7526 - val_loss: 1.5565 - val_accuracy: 0.5044\n",
      "Epoch 27/1000\n",
      "61/61 [==============================] - 152s 2s/step - loss: 0.6644 - accuracy: 0.7709 - val_loss: 1.2164 - val_accuracy: 0.5782\n",
      "Epoch 28/1000\n",
      "61/61 [==============================] - 149s 2s/step - loss: 0.6686 - accuracy: 0.7540 - val_loss: 2.1718 - val_accuracy: 0.3835\n",
      "Epoch 29/1000\n",
      "61/61 [==============================] - 150s 2s/step - loss: 0.6415 - accuracy: 0.7657 - val_loss: 1.3085 - val_accuracy: 0.5634\n",
      "Epoch 30/1000\n",
      "61/61 [==============================] - 148s 2s/step - loss: 0.6238 - accuracy: 0.7813 - val_loss: 1.1638 - val_accuracy: 0.5959\n",
      "Epoch 31/1000\n",
      "61/61 [==============================] - 151s 2s/step - loss: 0.5488 - accuracy: 0.7938 - val_loss: 1.0127 - val_accuracy: 0.6313\n",
      "Epoch 32/1000\n",
      "61/61 [==============================] - 150s 2s/step - loss: 0.5555 - accuracy: 0.8037 - val_loss: 1.3347 - val_accuracy: 0.5133\n",
      "Epoch 33/1000\n",
      "61/61 [==============================] - 148s 2s/step - loss: 0.5686 - accuracy: 0.7913 - val_loss: 1.1702 - val_accuracy: 0.6342\n",
      "Epoch 34/1000\n",
      "61/61 [==============================] - 148s 2s/step - loss: 0.5971 - accuracy: 0.7963 - val_loss: 1.1029 - val_accuracy: 0.6018\n",
      "Epoch 35/1000\n",
      "61/61 [==============================] - 150s 2s/step - loss: 0.5233 - accuracy: 0.8113 - val_loss: 0.9778 - val_accuracy: 0.6431\n",
      "Epoch 36/1000\n",
      "61/61 [==============================] - 150s 2s/step - loss: 0.5391 - accuracy: 0.7990 - val_loss: 0.9402 - val_accuracy: 0.6962\n",
      "Epoch 37/1000\n",
      "61/61 [==============================] - 149s 2s/step - loss: 0.5054 - accuracy: 0.8143 - val_loss: 1.2851 - val_accuracy: 0.6372\n",
      "Epoch 38/1000\n",
      "61/61 [==============================] - 147s 2s/step - loss: 0.5248 - accuracy: 0.8201 - val_loss: 7.2610 - val_accuracy: 0.1622\n",
      "Epoch 39/1000\n",
      "61/61 [==============================] - 149s 2s/step - loss: 0.5292 - accuracy: 0.8152 - val_loss: 3.0231 - val_accuracy: 0.2301\n",
      "Epoch 40/1000\n",
      "61/61 [==============================] - 149s 2s/step - loss: 0.5491 - accuracy: 0.8117 - val_loss: 1.1937 - val_accuracy: 0.6283\n",
      "Epoch 41/1000\n",
      "61/61 [==============================] - 148s 2s/step - loss: 0.5290 - accuracy: 0.8124 - val_loss: 1.5449 - val_accuracy: 0.3717\n",
      "Epoch 42/1000\n",
      "61/61 [==============================] - 147s 2s/step - loss: 0.5265 - accuracy: 0.8224 - val_loss: 2.9522 - val_accuracy: 0.5310\n",
      "Epoch 43/1000\n",
      "61/61 [==============================] - 148s 2s/step - loss: 0.4435 - accuracy: 0.8341 - val_loss: 1.1669 - val_accuracy: 0.6401\n",
      "Epoch 44/1000\n",
      "61/61 [==============================] - 151s 2s/step - loss: 0.4812 - accuracy: 0.8318 - val_loss: 1.3763 - val_accuracy: 0.6165\n",
      "Epoch 45/1000\n",
      "61/61 [==============================] - 148s 2s/step - loss: 0.4458 - accuracy: 0.8226 - val_loss: 2.4852 - val_accuracy: 0.4218\n",
      "Epoch 46/1000\n",
      "61/61 [==============================] - 147s 2s/step - loss: 0.4685 - accuracy: 0.8309 - val_loss: 2.5729 - val_accuracy: 0.5398\n"
     ]
    }
   ],
   "source": [
    "checkpoint_cb = keras.callbacks.ModelCheckpoint('conv_pool_batch_large_kernel_multi_conv.h5')\n",
    "early_stopping_cb = keras.callbacks.EarlyStopping(patience=10, restore_best_weights=True)\n",
    "tensorboard_cb = keras.callbacks.TensorBoard(get_run_logdir())\n",
    "\n",
    "\n",
    "history = model.fit(\n",
    "    train_generator,\n",
    "    validation_data = validation_generator, \n",
    "    verbose=1,\n",
    "    epochs = 1000,\n",
    "    callbacks=[checkpoint_cb, early_stopping_cb, tensorboard_cb])"
   ]
  },
  {
   "cell_type": "code",
   "execution_count": 8,
   "id": "basic-genesis",
   "metadata": {},
   "outputs": [
    {
     "name": "stdout",
     "output_type": "stream",
     "text": [
      "Holdout accuracy: 0.8167330622673035\n"
     ]
    }
   ],
   "source": [
    "score = model.evaluate(holdout_generator\n",
    "                       , verbose=0)\n",
    "print('Holdout accuracy:', score[1])"
   ]
  },
  {
   "cell_type": "code",
   "execution_count": 9,
   "id": "becoming-prompt",
   "metadata": {},
   "outputs": [
    {
     "data": {
      "image/png": "[encoded data removed]",
      "text/plain": [
       "<Figure size 720x432 with 1 Axes>"
      ]
     },
     "metadata": {
      "needs_background": "light"
     },
     "output_type": "display_data"
    }
   ],
   "source": [
    "import matplotlib.pyplot as plt\n",
    "\n",
    "plt.figure(figsize=(10,6))\n",
    "[plt.plot(history.history[i], label=i) for i in history.history.keys()]\n",
    "plt.ylim(top=3)\n",
    "plt.legend();"
   ]
  },
  {
   "cell_type": "code",
   "execution_count": 10,
   "id": "premier-agency",
   "metadata": {},
   "outputs": [
    {
     "data": {
      "text/plain": [
       "0.6961652040481567"
      ]
     },
     "execution_count": 10,
     "metadata": {},
     "output_type": "execute_result"
    }
   ],
   "source": [
    "max(history.history['val_accuracy'])"
   ]
  },
  {
   "cell_type": "code",
   "execution_count": null,
   "id": "narrow-violin",
   "metadata": {},
   "outputs": [],
   "source": []
  }
 ],
 "metadata": {
  "kernelspec": {
   "display_name": "Python 3",
   "language": "python",
   "name": "python3"
  },
  "language_info": {
   "codemirror_mode": {
    "name": "ipython",
    "version": 3
   },
   "file_extension": ".py",
   "mimetype": "text/x-python",
   "name": "python",
   "nbconvert_exporter": "python",
   "pygments_lexer": "ipython3",
   "version": "3.8.8"
  }
 },
 "nbformat": 4,
 "nbformat_minor": 5
}
