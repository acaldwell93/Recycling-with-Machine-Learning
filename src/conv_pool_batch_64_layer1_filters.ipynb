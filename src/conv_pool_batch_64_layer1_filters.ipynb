{
 "cells": [
  {
   "cell_type": "markdown",
   "id": "aerial-shopper",
   "metadata": {},
   "source": [
    "### This CNN uses three conv-pool blocks, with doubling number of filters used per block. Two dense layers at the end."
   ]
  },
  {
   "cell_type": "code",
   "execution_count": 1,
   "id": "national-milton",
   "metadata": {},
   "outputs": [],
   "source": [
    "import tensorflow as tf\n",
    "from tensorflow import keras\n",
    "from tensorflow.keras.models import Sequential\n",
    "from tensorflow.keras.layers import Dense, Dropout, Activation, Flatten, BatchNormalization, InputLayer\n",
    "from tensorflow.keras.layers import Conv2D, MaxPooling2D\n",
    "from tensorflow.keras.preprocessing.image import ImageDataGenerator, array_to_img, img_to_array, load_img"
   ]
  },
  {
   "cell_type": "code",
   "execution_count": 2,
   "id": "charming-order",
   "metadata": {},
   "outputs": [],
   "source": [
    "import os\n",
    "root_logdir = os.path.join(os.curdir, \"conv_pool_batch_64_layer1_filters_logs\")\n",
    "\n",
    "def get_run_logdir():\n",
    "    import time\n",
    "    run_id = time.strftime(\"run_%Y_%m_%d-%H_%M_%S\")\n",
    "    return os.path.join(root_logdir, run_id)"
   ]
  },
  {
   "cell_type": "code",
   "execution_count": 3,
   "id": "purple-college",
   "metadata": {},
   "outputs": [
    {
     "name": "stdout",
     "output_type": "stream",
     "text": [
      "Found 1937 images belonging to 6 classes.\n",
      "Found 339 images belonging to 6 classes.\n",
      "Found 251 images belonging to 6 classes.\n"
     ]
    },
    {
     "data": {
      "text/plain": [
       "{0: 'cardboard', 1: 'glass', 2: 'metal', 3: 'paper', 4: 'plastic', 5: 'trash'}"
      ]
     },
     "execution_count": 3,
     "metadata": {},
     "output_type": "execute_result"
    }
   ],
   "source": [
    "batch_size = 32\n",
    "target_size = (200,200)\n",
    "n_training_images = 2051\n",
    "\n",
    "train_datagen = ImageDataGenerator(rescale=1./255,\n",
    "                                  shear_range=0.1,\n",
    "                                  zoom_range=0.1,\n",
    "                                  rotation_range=10,\n",
    "                                  horizontal_flip=True,\n",
    "                                  vertical_flip=True,\n",
    "                                  width_shift_range = 0.1,\n",
    "                                  height_shift_range = 0.1,\n",
    "                                  validation_split=0.15)\n",
    "\n",
    "test_datagen = ImageDataGenerator(rescale=1./255, \n",
    "                                  validation_split=0.15)\n",
    "\n",
    "\n",
    "train_generator = train_datagen.flow_from_directory('../data/images/train',\n",
    "                                                    color_mode='rgb',\n",
    "                                                    target_size=target_size,\n",
    "                                                    batch_size=batch_size,\n",
    "                                                    class_mode=\"categorical\",\n",
    "                                                    subset='training')\n",
    "\n",
    "validation_generator = test_datagen.flow_from_directory('../data/images/train',\n",
    "                                                       color_mode='rgb',\n",
    "                                                       target_size=target_size,\n",
    "                                                       batch_size=batch_size,\n",
    "                                                       class_mode='categorical',\n",
    "                                                       subset='validation')\n",
    "\n",
    "holdout_generator = test_datagen.flow_from_directory('../data/images/holdout',\n",
    "                                                       color_mode='rgb',\n",
    "                                                       target_size=target_size,\n",
    "                                                       batch_size=batch_size,\n",
    "                                                       class_mode='categorical')\n",
    "\n",
    "labels = (train_generator.class_indices)\n",
    "labels = dict((v, k) for k,v in labels.items())\n",
    "labels\n"
   ]
  },
  {
   "cell_type": "code",
   "execution_count": 4,
   "id": "continuous-ethnic",
   "metadata": {},
   "outputs": [
    {
     "name": "stdout",
     "output_type": "stream",
     "text": [
      "Model: \"sequential\"\n",
      "_________________________________________________________________\n",
      "Layer (type)                 Output Shape              Param #   \n",
      "=================================================================\n",
      "conv2d (Conv2D)              (None, 200, 200, 64)      1792      \n",
      "_________________________________________________________________\n",
      "batch_normalization (BatchNo (None, 200, 200, 64)      256       \n",
      "_________________________________________________________________\n",
      "max_pooling2d (MaxPooling2D) (None, 100, 100, 64)      0         \n",
      "_________________________________________________________________\n",
      "conv2d_1 (Conv2D)            (None, 100, 100, 64)      36928     \n",
      "_________________________________________________________________\n",
      "max_pooling2d_1 (MaxPooling2 (None, 50, 50, 64)        0         \n",
      "_________________________________________________________________\n",
      "conv2d_2 (Conv2D)            (None, 50, 50, 128)       73856     \n",
      "_________________________________________________________________\n",
      "max_pooling2d_2 (MaxPooling2 (None, 25, 25, 128)       0         \n",
      "_________________________________________________________________\n",
      "flatten (Flatten)            (None, 80000)             0         \n",
      "_________________________________________________________________\n",
      "dense (Dense)                (None, 64)                5120064   \n",
      "_________________________________________________________________\n",
      "dropout (Dropout)            (None, 64)                0         \n",
      "_________________________________________________________________\n",
      "dense_1 (Dense)              (None, 6)                 390       \n",
      "=================================================================\n",
      "Total params: 5,233,286\n",
      "Trainable params: 5,233,158\n",
      "Non-trainable params: 128\n",
      "_________________________________________________________________\n"
     ]
    }
   ],
   "source": [
    "model=Sequential()\n",
    "\n",
    "model.add(Conv2D(64, (3,3), padding='same', input_shape=(target_size[0], target_size[1], 3), activation='relu'))\n",
    "model.add(BatchNormalization())\n",
    "model.add(MaxPooling2D(pool_size=2, strides=2))\n",
    "\n",
    "model.add(Conv2D(64, (3,3), padding='same', activation='relu'))\n",
    "model.add(MaxPooling2D(pool_size=2, strides=2))\n",
    "\n",
    "model.add(Conv2D(128, (3,3), padding='same', activation='relu'))\n",
    "model.add(MaxPooling2D(pool_size=2, strides=2))\n",
    "\n",
    "model.add(Flatten())\n",
    "model.add(Dense(64, activation='relu'))\n",
    "model.add(Dropout(0.1))\n",
    "model.add(Dense(6, activation='softmax'))\n",
    "\n",
    "# initial_learning_rate = 0.001\n",
    "# lr_schedule = tf.keras.optimizers.schedules.ExponentialDecay(\n",
    "#     initial_learning_rate,\n",
    "#     decay_steps=n_training_images*10//batch_size,\n",
    "#     decay_rate=0.9)\n",
    "\n",
    "opt = keras.optimizers.Adam(learning_rate=.001)\n",
    "\n",
    "model.compile(loss='categorical_crossentropy',\n",
    "             optimizer=opt, metrics=['accuracy'])\n",
    "\n",
    "model.summary()"
   ]
  },
  {
   "cell_type": "code",
   "execution_count": 5,
   "id": "fluid-musician",
   "metadata": {},
   "outputs": [
    {
     "name": "stdout",
     "output_type": "stream",
     "text": [
      "Epoch 1/1000\n",
      "61/61 [==============================] - 188s 3s/step - loss: 3.3031 - accuracy: 0.2040 - val_loss: 1.7647 - val_accuracy: 0.2478\n",
      "Epoch 2/1000\n",
      "61/61 [==============================] - 182s 3s/step - loss: 1.5906 - accuracy: 0.3629 - val_loss: 1.7203 - val_accuracy: 0.2301\n",
      "Epoch 3/1000\n",
      "61/61 [==============================] - 181s 3s/step - loss: 1.4924 - accuracy: 0.3948 - val_loss: 1.6945 - val_accuracy: 0.2537\n",
      "Epoch 4/1000\n",
      "61/61 [==============================] - 181s 3s/step - loss: 1.3860 - accuracy: 0.4542 - val_loss: 1.6213 - val_accuracy: 0.3835\n",
      "Epoch 5/1000\n",
      "61/61 [==============================] - 176s 3s/step - loss: 1.2413 - accuracy: 0.5108 - val_loss: 1.5205 - val_accuracy: 0.4041\n",
      "Epoch 6/1000\n",
      "61/61 [==============================] - 181s 3s/step - loss: 1.2723 - accuracy: 0.4930 - val_loss: 1.6076 - val_accuracy: 0.3510\n",
      "Epoch 7/1000\n",
      "61/61 [==============================] - 177s 3s/step - loss: 1.1719 - accuracy: 0.5341 - val_loss: 1.6364 - val_accuracy: 0.2832\n",
      "Epoch 8/1000\n",
      "61/61 [==============================] - 187s 3s/step - loss: 1.1133 - accuracy: 0.5758 - val_loss: 3.7503 - val_accuracy: 0.2478\n",
      "Epoch 9/1000\n",
      "61/61 [==============================] - 215s 4s/step - loss: 1.1487 - accuracy: 0.5546 - val_loss: 1.9844 - val_accuracy: 0.2861\n",
      "Epoch 10/1000\n",
      "61/61 [==============================] - 190s 3s/step - loss: 1.1810 - accuracy: 0.5309 - val_loss: 1.2841 - val_accuracy: 0.4661\n",
      "Epoch 11/1000\n",
      "61/61 [==============================] - 212s 3s/step - loss: 1.1194 - accuracy: 0.5751 - val_loss: 7.0732 - val_accuracy: 0.2094\n",
      "Epoch 12/1000\n",
      "61/61 [==============================] - 193s 3s/step - loss: 1.1361 - accuracy: 0.6011 - val_loss: 1.5257 - val_accuracy: 0.3776\n",
      "Epoch 13/1000\n",
      "61/61 [==============================] - 186s 3s/step - loss: 1.1017 - accuracy: 0.5951 - val_loss: 1.4684 - val_accuracy: 0.4661\n",
      "Epoch 14/1000\n",
      "61/61 [==============================] - 181s 3s/step - loss: 1.0636 - accuracy: 0.6040 - val_loss: 1.4469 - val_accuracy: 0.4336\n",
      "Epoch 15/1000\n",
      "61/61 [==============================] - 180s 3s/step - loss: 0.9819 - accuracy: 0.6389 - val_loss: 1.4672 - val_accuracy: 0.4690\n",
      "Epoch 16/1000\n",
      "61/61 [==============================] - 188s 3s/step - loss: 0.9353 - accuracy: 0.6448 - val_loss: 1.2439 - val_accuracy: 0.5398\n",
      "Epoch 17/1000\n",
      "61/61 [==============================] - 187s 3s/step - loss: 0.9381 - accuracy: 0.6531 - val_loss: 1.3506 - val_accuracy: 0.5015\n",
      "Epoch 18/1000\n",
      "61/61 [==============================] - 189s 3s/step - loss: 0.9085 - accuracy: 0.6594 - val_loss: 1.5458 - val_accuracy: 0.3717\n",
      "Epoch 19/1000\n",
      "61/61 [==============================] - 193s 3s/step - loss: 0.9524 - accuracy: 0.6415 - val_loss: 1.5886 - val_accuracy: 0.4041\n",
      "Epoch 20/1000\n",
      "61/61 [==============================] - 180s 3s/step - loss: 0.9366 - accuracy: 0.6607 - val_loss: 1.4058 - val_accuracy: 0.4248\n",
      "Epoch 21/1000\n",
      "61/61 [==============================] - 176s 3s/step - loss: 0.8921 - accuracy: 0.6525 - val_loss: 1.7402 - val_accuracy: 0.3422\n",
      "Epoch 22/1000\n",
      "61/61 [==============================] - 188s 3s/step - loss: 0.9231 - accuracy: 0.6591 - val_loss: 1.6362 - val_accuracy: 0.4041\n",
      "Epoch 23/1000\n",
      "61/61 [==============================] - 177s 3s/step - loss: 0.9091 - accuracy: 0.6456 - val_loss: 1.2945 - val_accuracy: 0.5457\n",
      "Epoch 24/1000\n",
      "61/61 [==============================] - 177s 3s/step - loss: 0.8690 - accuracy: 0.6770 - val_loss: 2.6456 - val_accuracy: 0.3304\n",
      "Epoch 25/1000\n",
      "61/61 [==============================] - 187s 3s/step - loss: 0.8543 - accuracy: 0.6780 - val_loss: 1.0716 - val_accuracy: 0.6254\n",
      "Epoch 26/1000\n",
      "61/61 [==============================] - 188s 3s/step - loss: 0.7803 - accuracy: 0.7049 - val_loss: 1.0154 - val_accuracy: 0.6785\n",
      "Epoch 27/1000\n",
      "61/61 [==============================] - 196s 3s/step - loss: 0.8093 - accuracy: 0.7064 - val_loss: 1.1612 - val_accuracy: 0.6018\n",
      "Epoch 28/1000\n",
      "61/61 [==============================] - 196s 3s/step - loss: 0.8187 - accuracy: 0.7015 - val_loss: 1.2813 - val_accuracy: 0.5369\n",
      "Epoch 29/1000\n",
      "61/61 [==============================] - 201s 3s/step - loss: 0.7677 - accuracy: 0.7166 - val_loss: 1.1359 - val_accuracy: 0.6018\n",
      "Epoch 30/1000\n",
      "61/61 [==============================] - 195s 3s/step - loss: 0.7881 - accuracy: 0.7151 - val_loss: 1.0037 - val_accuracy: 0.6696\n",
      "Epoch 31/1000\n",
      "61/61 [==============================] - 195s 3s/step - loss: 0.7768 - accuracy: 0.7015 - val_loss: 1.2371 - val_accuracy: 0.5723\n",
      "Epoch 32/1000\n",
      "61/61 [==============================] - 199s 3s/step - loss: 0.7203 - accuracy: 0.7362 - val_loss: 1.8817 - val_accuracy: 0.4779\n",
      "Epoch 33/1000\n",
      "61/61 [==============================] - 194s 3s/step - loss: 0.7326 - accuracy: 0.7254 - val_loss: 1.8967 - val_accuracy: 0.4897\n",
      "Epoch 34/1000\n",
      "61/61 [==============================] - 194s 3s/step - loss: 0.6607 - accuracy: 0.7552 - val_loss: 1.1245 - val_accuracy: 0.6106\n",
      "Epoch 35/1000\n",
      "61/61 [==============================] - 200s 3s/step - loss: 0.7090 - accuracy: 0.7490 - val_loss: 1.3664 - val_accuracy: 0.4897\n",
      "Epoch 36/1000\n",
      "61/61 [==============================] - 201s 3s/step - loss: 0.7340 - accuracy: 0.7326 - val_loss: 1.3124 - val_accuracy: 0.5310\n",
      "Epoch 37/1000\n",
      "61/61 [==============================] - 202s 3s/step - loss: 0.6942 - accuracy: 0.7320 - val_loss: 1.6340 - val_accuracy: 0.5015\n",
      "Epoch 38/1000\n",
      "61/61 [==============================] - 200s 3s/step - loss: 0.6856 - accuracy: 0.7502 - val_loss: 1.3291 - val_accuracy: 0.5103\n",
      "Epoch 39/1000\n",
      "61/61 [==============================] - 194s 3s/step - loss: 0.6497 - accuracy: 0.7554 - val_loss: 4.0887 - val_accuracy: 0.3776\n",
      "Epoch 40/1000\n",
      "61/61 [==============================] - 194s 3s/step - loss: 0.6865 - accuracy: 0.7469 - val_loss: 1.1986 - val_accuracy: 0.5634\n"
     ]
    }
   ],
   "source": [
    "checkpoint_cb = keras.callbacks.ModelCheckpoint('conv_pool_batch_64_layer1_filters.h5')\n",
    "early_stopping_cb = keras.callbacks.EarlyStopping(patience=10, restore_best_weights=True)\n",
    "tensorboard_cb = keras.callbacks.TensorBoard(get_run_logdir())\n",
    "\n",
    "\n",
    "history = model.fit(\n",
    "    train_generator,\n",
    "    validation_data = validation_generator, \n",
    "    verbose=1,\n",
    "    epochs = 1000,\n",
    "    callbacks=[checkpoint_cb, early_stopping_cb, tensorboard_cb])"
   ]
  },
  {
   "cell_type": "code",
   "execution_count": 6,
   "id": "included-endorsement",
   "metadata": {},
   "outputs": [
    {
     "name": "stdout",
     "output_type": "stream",
     "text": [
      "Holdout accuracy: 0.7569721341133118\n"
     ]
    }
   ],
   "source": [
    "score = model.evaluate(holdout_generator, verbose=0)\n",
    "print('Holdout accuracy:', score[1])"
   ]
  },
  {
   "cell_type": "code",
   "execution_count": 12,
   "id": "reserved-oxygen",
   "metadata": {},
   "outputs": [
    {
     "data": {
      "image/png": "[encoded data removed]",
      "text/plain": [
       "<Figure size 720x432 with 1 Axes>"
      ]
     },
     "metadata": {
      "needs_background": "light"
     },
     "output_type": "display_data"
    }
   ],
   "source": [
    "import matplotlib.pyplot as plt\n",
    "\n",
    "plt.figure(figsize=(10,6))\n",
    "[plt.plot(history.history[i], label=i) for i in history.history.keys()]\n",
    "plt.ylim(top=2)\n",
    "plt.legend();"
   ]
  },
  {
   "cell_type": "code",
   "execution_count": 13,
   "id": "apparent-samba",
   "metadata": {},
   "outputs": [
    {
     "data": {
      "text/plain": [
       "0.6784660816192627"
      ]
     },
     "execution_count": 13,
     "metadata": {},
     "output_type": "execute_result"
    }
   ],
   "source": [
    "max(history.history['val_accuracy'])"
   ]
  },
  {
   "cell_type": "code",
   "execution_count": null,
   "id": "appreciated-senate",
   "metadata": {},
   "outputs": [],
   "source": []
  }
 ],
 "metadata": {
  "kernelspec": {
   "display_name": "Python 3",
   "language": "python",
   "name": "python3"
  },
  "language_info": {
   "codemirror_mode": {
    "name": "ipython",
    "version": 3
   },
   "file_extension": ".py",
   "mimetype": "text/x-python",
   "name": "python",
   "nbconvert_exporter": "python",
   "pygments_lexer": "ipython3",
   "version": "3.8.8"
  }
 },
 "nbformat": 4,
 "nbformat_minor": 5
}
